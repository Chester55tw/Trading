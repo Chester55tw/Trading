{
 "cells": [
  {
   "attachments": {},
   "cell_type": "markdown",
   "metadata": {},
   "source": [
    "#### Q1: Simulation \n",
    "Simulate Bid-ask spread dynamics for the following question: \n",
    "* The end-of-day value of a share of stock, V, is random\n",
    "* At market close: either $V_H$=150 or $V_L$=100\n",
    "    * With equal probability\n",
    "* Before trading starts, the expected value is\n",
    "    * EV=$\\frac{1}{2}150 + \\frac{1}{2} 100$=125\n",
    "    * This is the unconditional expected value\n",
    "* There are two types of traders\n",
    "    * Informed traders know V\n",
    "    * Uninformed (``retail'') traders don't know V\n",
    "* The dealer doesn't know V\n",
    "* Uninformed traders are equally likely to buy or sell\n",
    "* Informed traders observe V and decide the optimal trading strategy \n",
    "* After the dealer sets the bid and ask quote, a trader arrives. \n",
    "    * Assuming: Prob(uninformed) = 0.8 and Prob(informed) = 0.2\n",
    "\n",
    "\n",
    "Plot Bid-ask spread dynamics for the following two scenarios (b is buy order and s is sell order)\n",
    "1) s,s,b,s,s,b,s,s,s,s,s,s\n",
    "2) s,b,b,s,b,b,s,b,b,b,b,b\n"
   ]
  },
  {
   "attachments": {},
   "cell_type": "markdown",
   "metadata": {},
   "source": [
    "#### Q2: Data cleanning and data analysis \n",
    "This exercise is about ﬁxed income markets. Corporate bonds are largely traded in OTC markets. Academic Corporate Bond TRACE Dataset contains historic transaction-level data on all eligible corporate bondsinvestment grade, high yield and convertible debt. We use this dataset to understand the bond market during the COVID-19 Crisis.\n",
    "\n",
    "* bond.csv.zip is the dataset containing TRACE data downloaded from WRDS\n",
    "* VariableList.csv contains the variable description, and more detailed description is in TRACE Variable.pdf\n",
    "* I will not give you instructions to clean the data. You need to underrstand what variables to use and decide your way to handle the data "
   ]
  },
  {
   "attachments": {},
   "cell_type": "markdown",
   "metadata": {},
   "source": [
    "##### Data Cleaning \n",
    "* How many different companies and corporate bonds are in the data set?\n",
    "\n",
    "* Plot the histogram of the number of trading days \n",
    "\n",
    "* The data reports the contra-party type. \n",
    "    * Calculate spread for each trade as follows. Note that we do not see bid/ask prices at OTC markets, so the calculation of spread is not direct. We follow the calculation in\n",
    "    $$spread = 2Q * \\frac{traded price - reference price}{referenc price}$$\n",
    "    where Q is +1 for a customer buy and −1 for a customer sell. For each trade, we calculate its reference price as the volume-weighted average price of trades in the same bond-day\n",
    "    * Plot the histogram of calculated trade spread. Do you notice that 1) lots of spreads are exactly zero, 2) there are entries with very large spreads? Please answer why those spreads are zero? Give one example to explain outlier spreads (check news and list one example that may lead to large spreads)"
   ]
  },
  {
   "attachments": {},
   "cell_type": "markdown",
   "metadata": {},
   "source": [
    "##### Analysis\n",
    "* Daily analysis \n",
    "    * Spread\n",
    "        * Aggregate spread information to the company-day level. What is the reasonable way in your opinions to do this? \n",
    "        * Using bond-day level spreads to calculate the average spread for each stock and present the results. What can we learn from the ranking of the spreads?\n",
    "        * Plot time-series spread using company-day level data for each company. What patterns do you see, and why is that?\n",
    "    * Volume \n",
    "        * Calculate company-day trading volume for each company\n",
    "        * Plot histogram of the company-day trading volume. What is the distribution? \n",
    "    * Analsyis\n",
    "        * Does past trading volume predicts future spreads? \n",
    "        * Are daily trading volume time-series correlated? \n",
    "\n",
    "\n",
    "* Intraday analysis \n",
    "    * Spread\n",
    "        * For each company, construct and plot the intraday spread pattern by minutes \n",
    "    * Volume \n",
    "        * For each company, construct and plot the intraday volume pattern by minutes \n",
    "    * Analysis \n",
    "        * Does the interday pattern change during market stress periods? \n",
    "        * Is intraday volume predictable? (Note that you can also construct interday return information)\n"
   ]
  },
  {
   "attachments": {},
   "cell_type": "markdown",
   "metadata": {},
   "source": [
    "#### Import the relevant modules"
   ]
  },
  {
   "cell_type": "code",
   "execution_count": 126,
   "metadata": {},
   "outputs": [],
   "source": [
    "### In this project, I will use datatable (quicker) rather pandas to manipulate data. You can see which one is more intuitive for you \n",
    "from datetime import datetime\n",
    "import datatable as dt\n",
    "from datatable import dt, f, by, update\n",
    "from regpyhdfe import Regpyhdfe\n",
    "import numpy as np\n",
    "import matplotlib.pyplot as plt\n",
    "import os \n",
    "\n"
   ]
  }
 ],
 "metadata": {
  "kernelspec": {
   "display_name": "base",
   "language": "python",
   "name": "python3"
  },
  "language_info": {
   "codemirror_mode": {
    "name": "ipython",
    "version": 3
   },
   "file_extension": ".py",
   "mimetype": "text/x-python",
   "name": "python",
   "nbconvert_exporter": "python",
   "pygments_lexer": "ipython3",
   "version": "3.9.7"
  },
  "orig_nbformat": 4,
  "vscode": {
   "interpreter": {
    "hash": "62a7af92ab6101a3a94502fdbe78225ebe37029b375878b440ea7d81328eab22"
   }
  }
 },
 "nbformat": 4,
 "nbformat_minor": 2
}
