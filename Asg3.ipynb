{
  "cells": [
    {
      "cell_type": "markdown",
      "metadata": {
        "id": "ER57gkQxesWo"
      },
      "source": [
        "#### Question 1\n",
        "\n",
        "Posted on absalon is a press release from the European Securities and Markets Authoriy regarding its decision to prohibit sales of binary options to retail investors. Read the [article](https://www.esma.europa.eu/press-news/esma-news/esma-agrees-prohibit-binary-options-and-restrict-cfds-protect-retail-investors) and answer the following questions:\n",
        "\n",
        "1. What is the motivation behind this decision? How does this relate to the models we have seen in class?\n",
        "\n",
        "2. What eﬀect will this decision have on liquidity in the binary options market?\n",
        "\n",
        "3. Measures announced in the press release diﬀer between the binary option and CFD markets. How will the eﬀects of the regulation be diﬀerent across the two markets?\n",
        "\n",
        "Be concise and to the point. Please try to keep your answer less than 100 words (but not just one sentense)."
      ]
    },
    {
      "cell_type": "markdown",
      "source": [
        "1. The motivation behind the decision is to protect retail investors from significant investor protection concerns related to the complexity and lack of transparency of binary options and CFDs, as well as excessive leverage, structural expected negative return, and issues related to their marketing and distribution. This relates to the models we have seen in class that highlight the importance of transparency and appropriate risk management in financial markets to protect investors."
      ],
      "metadata": {
        "id": "fW_GRfy3fRGX"
      }
    },
    {
      "cell_type": "markdown",
      "source": [
        "2. The decision to prohibit sales of binary options to retail investors is expected to reduce liquidity in the binary options market as retail investors will no longer be able to trade these instruments. However, this is seen as a necessary measure to protect retail investors from the risks associated with binary options, particularly their structural expected negative return and embedded conflict of interest between providers and their clients."
      ],
      "metadata": {
        "id": "_4ambh10fRSF"
      }
    },
    {
      "cell_type": "markdown",
      "source": [
        "3. The measures announced in the press release will have different effects on the binary option and CFD markets. For binary options, the prohibition on the marketing, distribution, or sale of these instruments to retail investors will prevent retail investors from trading these instruments, whereas for CFDs, the restrictions on leverage, margin close-out, negative balance protection, and incentives, as well as the requirement for a standardised risk warning, will limit the risks associated with these instruments for retail investors."
      ],
      "metadata": {
        "id": "kWPutKEAie9Q"
      }
    },
    {
      "cell_type": "markdown",
      "metadata": {
        "id": "JbKWkiYfesWp"
      },
      "source": [
        "#### Question 2 Trade data \n",
        "In the following use the trade data in tqBAC.csv.  Denote trade prices by $p_t$ and mid-quotes by $m_t$.\n",
        "* Sign each trade based on Lee-ready algorithm \n",
        "* Calcualte Spread, Effective Spread and Realized Spread by EXCHANGES\n",
        "* Examine order correlation "
      ]
    },
    {
      "cell_type": "markdown",
      "metadata": {
        "id": "quVisIafesWq"
      },
      "source": [
        "#### Import the relevant modules"
      ]
    },
    {
      "cell_type": "code",
      "execution_count": 8,
      "metadata": {
        "colab": {
          "base_uri": "https://localhost:8080/",
          "height": 119
        },
        "id": "Ej-PzFW1esWq",
        "outputId": "d1d02683-245f-4e6f-f4ed-e5e3ecb616b6"
      },
      "outputs": [
        {
          "output_type": "stream",
          "name": "stdout",
          "text": [
            "Looking in indexes: https://pypi.org/simple, https://us-python.pkg.dev/colab-wheels/public/simple/\n",
            "Collecting datatable\n",
            "  Downloading datatable-1.0.0-cp38-cp38-manylinux_2_12_x86_64.whl (96.6 MB)\n",
            "\u001b[2K     \u001b[90m━━━━━━━━━━━━━━━━━━━━━━━━━━━━━━━━━━━━━━━━\u001b[0m \u001b[32m96.6/96.6 MB\u001b[0m \u001b[31m9.7 MB/s\u001b[0m eta \u001b[36m0:00:00\u001b[0m\n",
            "\u001b[?25hInstalling collected packages: datatable\n",
            "Successfully installed datatable-1.0.0\n"
          ]
        },
        {
          "output_type": "display_data",
          "data": {
            "text/plain": [
              "<IPython.core.display.HTML object>"
            ],
            "text/html": [
              "<style type='text/css'>\n",
              ".datatable table.frame { margin-bottom: 0; }\n",
              ".datatable table.frame thead { border-bottom: none; }\n",
              ".datatable table.frame tr.coltypes td {  color: #FFFFFF;  line-height: 6px;  padding: 0 0.5em;}\n",
              ".datatable .bool    { background: #DDDD99; }\n",
              ".datatable .object  { background: #565656; }\n",
              ".datatable .int     { background: #5D9E5D; }\n",
              ".datatable .float   { background: #4040CC; }\n",
              ".datatable .str     { background: #CC4040; }\n",
              ".datatable .time    { background: #40CC40; }\n",
              ".datatable .row_index {  background: var(--jp-border-color3);  border-right: 1px solid var(--jp-border-color0);  color: var(--jp-ui-font-color3);  font-size: 9px;}\n",
              ".datatable .frame tbody td { text-align: left; }\n",
              ".datatable .frame tr.coltypes .row_index {  background: var(--jp-border-color0);}\n",
              ".datatable th:nth-child(2) { padding-left: 12px; }\n",
              ".datatable .hellipsis {  color: var(--jp-cell-editor-border-color);}\n",
              ".datatable .vellipsis {  background: var(--jp-layout-color0);  color: var(--jp-cell-editor-border-color);}\n",
              ".datatable .na {  color: var(--jp-cell-editor-border-color);  font-size: 80%;}\n",
              ".datatable .sp {  opacity: 0.25;}\n",
              ".datatable .footer { font-size: 9px; }\n",
              ".datatable .frame_dimensions {  background: var(--jp-border-color3);  border-top: 1px solid var(--jp-border-color0);  color: var(--jp-ui-font-color3);  display: inline-block;  opacity: 0.6;  padding: 1px 10px 1px 5px;}\n",
              "</style>\n"
            ]
          },
          "metadata": {}
        }
      ],
      "source": [
        "### In this project, I will use datatable (quicker) rather pandas to manipulate data. You can see which one is more intuitive for you \n",
        "!pip install datatable\n",
        "from datetime import datetime\n",
        "import datatable as dt\n",
        "from datatable import dt, f, by, update\n",
        "import statsmodels.formula.api as smf\n",
        "import numpy as np\n",
        "import matplotlib.pyplot as plt\n",
        "import os \n"
      ]
    },
    {
      "cell_type": "markdown",
      "source": [
        "1. Sign each trade based on Lee-Ready algorithm:"
      ],
      "metadata": {
        "id": "BSea6X_jmiI2"
      }
    },
    {
      "cell_type": "code",
      "source": [
        "import pandas as pd\n",
        "\n",
        "# read the trade data into a pandas dataframe\n",
        "df = pd.read_csv('tqBAC.csv')\n",
        "\n",
        "# initialize the trade sign column\n",
        "df['TradeSign'] = 0\n",
        "\n",
        "# loop over the trades and assign trade signs\n",
        "for i in range(1, len(df)):\n",
        "    pt = df.loc[i, 'PRICE']\n",
        "    mt = (df.loc[i, 'BID'] + df.loc[i, 'OFR']) / 2\n",
        "    pt_1 = df.loc[i-1, 'PRICE']\n",
        "    \n",
        "    if pt > mt:\n",
        "        df.loc[i, 'TradeSign'] = 1\n",
        "    elif pt < mt:\n",
        "        df.loc[i, 'TradeSign'] = -1\n",
        "    else:\n",
        "        if pt > pt_1:\n",
        "            df.loc[i, 'TradeSign'] = 1\n",
        "        elif pt < pt_1:\n",
        "            df.loc[i, 'TradeSign'] = -1\n"
      ],
      "metadata": {
        "id": "jVHgZzLzmXtx"
      },
      "execution_count": 9,
      "outputs": []
    },
    {
      "cell_type": "markdown",
      "source": [
        "2. Calculate spread, effective spread, and realized spread by exchanges:"
      ],
      "metadata": {
        "id": "LDUwiBsqmosn"
      }
    },
    {
      "cell_type": "code",
      "source": [
        "# calculate spread\n",
        "df['Spread'] = df['OFR'] - df['BID']\n",
        "\n",
        "# calculate effective spread\n",
        "df['EffectiveSpread'] = 2 * df['Spread'] / (df['OFR'] + df['BID'])\n",
        "\n",
        "# calculate realized spread\n",
        "df['MidQuote'] = (df['BID'] + df['OFR']) / 2\n",
        "df['MidQuoteLag'] = df['MidQuote'].shift(1)\n",
        "df['MidQuoteReturn'] = np.log(df['MidQuote'] / df['MidQuoteLag'])\n",
        "df['RealizedSpread'] = np.exp(df['MidQuoteReturn'].rolling(600).sum()) - 1\n",
        "df = df.drop(columns=['MidQuote', 'MidQuoteLag', 'MidQuoteReturn'])\n",
        "df['RealizedSpread'] = df['RealizedSpread'].fillna(0)\n",
        "\n",
        "# group by exchanges and calculate mean values\n",
        "df_grouped = df.groupby('EX').agg({\n",
        "    'Spread': 'mean',\n",
        "    'EffectiveSpread': 'mean',\n",
        "    'RealizedSpread': 'mean'\n",
        "})\n"
      ],
      "metadata": {
        "id": "WJCIkKdOmfVM"
      },
      "execution_count": 10,
      "outputs": []
    },
    {
      "cell_type": "markdown",
      "source": [
        "3. Examine order correlation:"
      ],
      "metadata": {
        "id": "XTGq6RXzmzFB"
      }
    },
    {
      "cell_type": "code",
      "source": [
        "##just checking if there's missing data\n",
        "print(df.isnull().sum())"
      ],
      "metadata": {
        "colab": {
          "base_uri": "https://localhost:8080/",
          "height": 0
        },
        "id": "k5fAuLsjssQT",
        "outputId": "3780cdf5-2ed6-4540-effb-c6a11ff611bc"
      },
      "execution_count": 27,
      "outputs": [
        {
          "output_type": "stream",
          "name": "stdout",
          "text": [
            "date                 0\n",
            "SYMBOL               0\n",
            "EX                   0\n",
            "PRICE                0\n",
            "SIZE                 0\n",
            "COND                 0\n",
            "BID                  0\n",
            "BIDSIZ               0\n",
            "OFR                  0\n",
            "OFRSIZ               0\n",
            "TradeSign            0\n",
            "Spread               0\n",
            "EffectiveSpread      0\n",
            "RealizedSpread       0\n",
            "OrderCorr          600\n",
            "dtype: int64\n"
          ]
        }
      ]
    },
    {
      "cell_type": "code",
      "source": [
        "df"
      ],
      "metadata": {
        "colab": {
          "base_uri": "https://localhost:8080/",
          "height": 419
        },
        "id": "ffSKUzP5tx_5",
        "outputId": "19968417-fb90-4411-fb26-ee3985735bb6"
      },
      "execution_count": 29,
      "outputs": [
        {
          "output_type": "execute_result",
          "data": {
            "text/plain": [
              "                           date SYMBOL EX   PRICE    SIZE COND    BID  BIDSIZ  \\\n",
              "0      2017-09-19T14:30:00.009Z    BAC  P  24.700   20000       24.72       6   \n",
              "1      2017-09-19T14:30:01.361Z    BAC  T  24.710     300       24.72       6   \n",
              "2      2017-09-19T14:30:01.525Z    BAC  P  24.700     100       24.72       6   \n",
              "3      2017-09-19T14:30:02.990Z    BAC  N  24.730  429950       24.72       6   \n",
              "4      2017-09-19T14:30:02.996Z    BAC  N  24.720     100       24.72      35   \n",
              "...                         ...    ... ..     ...     ...  ...    ...     ...   \n",
              "24455  2017-09-19T20:59:59.993Z    BAC  B  24.870     137       24.86    3020   \n",
              "24456  2017-09-19T21:00:00.009Z    BAC  P  24.870   28400       24.86    3020   \n",
              "24457  2017-09-19T21:00:00.013Z    BAC  A  24.860     100       24.86    3020   \n",
              "24458  2017-09-19T21:00:00.213Z    BAC  P  24.870   28400       24.86    3020   \n",
              "24459  2017-09-19T21:00:00.344Z    BAC  T  24.865      99       24.86    3020   \n",
              "\n",
              "         OFR  OFRSIZ  TradeSign  Spread  EffectiveSpread  RealizedSpread  \\\n",
              "0      24.74     100          0    0.02         0.000809             0.0   \n",
              "1      24.74     100         -1    0.02         0.000809             0.0   \n",
              "2      24.74     100         -1    0.02         0.000809             0.0   \n",
              "3      24.74     100          1    0.02         0.000809             0.0   \n",
              "4      24.74     420         -1    0.02         0.000809             0.0   \n",
              "...      ...     ...        ...     ...              ...             ...   \n",
              "24455  24.87    2071          1    0.01         0.000402             0.0   \n",
              "24456  24.87    1956          1    0.01         0.000402             0.0   \n",
              "24457  24.87    1956         -1    0.01         0.000402             0.0   \n",
              "24458  24.87    1956          1    0.01         0.000402             0.0   \n",
              "24459  24.87    1956         -1    0.01         0.000402             0.0   \n",
              "\n",
              "       OrderCorr  \n",
              "0            NaN  \n",
              "1            NaN  \n",
              "2            NaN  \n",
              "3            NaN  \n",
              "4            NaN  \n",
              "...          ...  \n",
              "24455   0.249432  \n",
              "24456   0.251705  \n",
              "24457   0.248775  \n",
              "24458   0.245857  \n",
              "24459   0.245857  \n",
              "\n",
              "[24460 rows x 15 columns]"
            ],
            "text/html": [
              "\n",
              "  <div id=\"df-de78e33c-d967-4e56-8de2-798a34a54581\">\n",
              "    <div class=\"colab-df-container\">\n",
              "      <div>\n",
              "<style scoped>\n",
              "    .dataframe tbody tr th:only-of-type {\n",
              "        vertical-align: middle;\n",
              "    }\n",
              "\n",
              "    .dataframe tbody tr th {\n",
              "        vertical-align: top;\n",
              "    }\n",
              "\n",
              "    .dataframe thead th {\n",
              "        text-align: right;\n",
              "    }\n",
              "</style>\n",
              "<table border=\"1\" class=\"dataframe\">\n",
              "  <thead>\n",
              "    <tr style=\"text-align: right;\">\n",
              "      <th></th>\n",
              "      <th>date</th>\n",
              "      <th>SYMBOL</th>\n",
              "      <th>EX</th>\n",
              "      <th>PRICE</th>\n",
              "      <th>SIZE</th>\n",
              "      <th>COND</th>\n",
              "      <th>BID</th>\n",
              "      <th>BIDSIZ</th>\n",
              "      <th>OFR</th>\n",
              "      <th>OFRSIZ</th>\n",
              "      <th>TradeSign</th>\n",
              "      <th>Spread</th>\n",
              "      <th>EffectiveSpread</th>\n",
              "      <th>RealizedSpread</th>\n",
              "      <th>OrderCorr</th>\n",
              "    </tr>\n",
              "  </thead>\n",
              "  <tbody>\n",
              "    <tr>\n",
              "      <th>0</th>\n",
              "      <td>2017-09-19T14:30:00.009Z</td>\n",
              "      <td>BAC</td>\n",
              "      <td>P</td>\n",
              "      <td>24.700</td>\n",
              "      <td>20000</td>\n",
              "      <td></td>\n",
              "      <td>24.72</td>\n",
              "      <td>6</td>\n",
              "      <td>24.74</td>\n",
              "      <td>100</td>\n",
              "      <td>0</td>\n",
              "      <td>0.02</td>\n",
              "      <td>0.000809</td>\n",
              "      <td>0.0</td>\n",
              "      <td>NaN</td>\n",
              "    </tr>\n",
              "    <tr>\n",
              "      <th>1</th>\n",
              "      <td>2017-09-19T14:30:01.361Z</td>\n",
              "      <td>BAC</td>\n",
              "      <td>T</td>\n",
              "      <td>24.710</td>\n",
              "      <td>300</td>\n",
              "      <td></td>\n",
              "      <td>24.72</td>\n",
              "      <td>6</td>\n",
              "      <td>24.74</td>\n",
              "      <td>100</td>\n",
              "      <td>-1</td>\n",
              "      <td>0.02</td>\n",
              "      <td>0.000809</td>\n",
              "      <td>0.0</td>\n",
              "      <td>NaN</td>\n",
              "    </tr>\n",
              "    <tr>\n",
              "      <th>2</th>\n",
              "      <td>2017-09-19T14:30:01.525Z</td>\n",
              "      <td>BAC</td>\n",
              "      <td>P</td>\n",
              "      <td>24.700</td>\n",
              "      <td>100</td>\n",
              "      <td></td>\n",
              "      <td>24.72</td>\n",
              "      <td>6</td>\n",
              "      <td>24.74</td>\n",
              "      <td>100</td>\n",
              "      <td>-1</td>\n",
              "      <td>0.02</td>\n",
              "      <td>0.000809</td>\n",
              "      <td>0.0</td>\n",
              "      <td>NaN</td>\n",
              "    </tr>\n",
              "    <tr>\n",
              "      <th>3</th>\n",
              "      <td>2017-09-19T14:30:02.990Z</td>\n",
              "      <td>BAC</td>\n",
              "      <td>N</td>\n",
              "      <td>24.730</td>\n",
              "      <td>429950</td>\n",
              "      <td></td>\n",
              "      <td>24.72</td>\n",
              "      <td>6</td>\n",
              "      <td>24.74</td>\n",
              "      <td>100</td>\n",
              "      <td>1</td>\n",
              "      <td>0.02</td>\n",
              "      <td>0.000809</td>\n",
              "      <td>0.0</td>\n",
              "      <td>NaN</td>\n",
              "    </tr>\n",
              "    <tr>\n",
              "      <th>4</th>\n",
              "      <td>2017-09-19T14:30:02.996Z</td>\n",
              "      <td>BAC</td>\n",
              "      <td>N</td>\n",
              "      <td>24.720</td>\n",
              "      <td>100</td>\n",
              "      <td></td>\n",
              "      <td>24.72</td>\n",
              "      <td>35</td>\n",
              "      <td>24.74</td>\n",
              "      <td>420</td>\n",
              "      <td>-1</td>\n",
              "      <td>0.02</td>\n",
              "      <td>0.000809</td>\n",
              "      <td>0.0</td>\n",
              "      <td>NaN</td>\n",
              "    </tr>\n",
              "    <tr>\n",
              "      <th>...</th>\n",
              "      <td>...</td>\n",
              "      <td>...</td>\n",
              "      <td>...</td>\n",
              "      <td>...</td>\n",
              "      <td>...</td>\n",
              "      <td>...</td>\n",
              "      <td>...</td>\n",
              "      <td>...</td>\n",
              "      <td>...</td>\n",
              "      <td>...</td>\n",
              "      <td>...</td>\n",
              "      <td>...</td>\n",
              "      <td>...</td>\n",
              "      <td>...</td>\n",
              "      <td>...</td>\n",
              "    </tr>\n",
              "    <tr>\n",
              "      <th>24455</th>\n",
              "      <td>2017-09-19T20:59:59.993Z</td>\n",
              "      <td>BAC</td>\n",
              "      <td>B</td>\n",
              "      <td>24.870</td>\n",
              "      <td>137</td>\n",
              "      <td></td>\n",
              "      <td>24.86</td>\n",
              "      <td>3020</td>\n",
              "      <td>24.87</td>\n",
              "      <td>2071</td>\n",
              "      <td>1</td>\n",
              "      <td>0.01</td>\n",
              "      <td>0.000402</td>\n",
              "      <td>0.0</td>\n",
              "      <td>0.249432</td>\n",
              "    </tr>\n",
              "    <tr>\n",
              "      <th>24456</th>\n",
              "      <td>2017-09-19T21:00:00.009Z</td>\n",
              "      <td>BAC</td>\n",
              "      <td>P</td>\n",
              "      <td>24.870</td>\n",
              "      <td>28400</td>\n",
              "      <td></td>\n",
              "      <td>24.86</td>\n",
              "      <td>3020</td>\n",
              "      <td>24.87</td>\n",
              "      <td>1956</td>\n",
              "      <td>1</td>\n",
              "      <td>0.01</td>\n",
              "      <td>0.000402</td>\n",
              "      <td>0.0</td>\n",
              "      <td>0.251705</td>\n",
              "    </tr>\n",
              "    <tr>\n",
              "      <th>24457</th>\n",
              "      <td>2017-09-19T21:00:00.013Z</td>\n",
              "      <td>BAC</td>\n",
              "      <td>A</td>\n",
              "      <td>24.860</td>\n",
              "      <td>100</td>\n",
              "      <td></td>\n",
              "      <td>24.86</td>\n",
              "      <td>3020</td>\n",
              "      <td>24.87</td>\n",
              "      <td>1956</td>\n",
              "      <td>-1</td>\n",
              "      <td>0.01</td>\n",
              "      <td>0.000402</td>\n",
              "      <td>0.0</td>\n",
              "      <td>0.248775</td>\n",
              "    </tr>\n",
              "    <tr>\n",
              "      <th>24458</th>\n",
              "      <td>2017-09-19T21:00:00.213Z</td>\n",
              "      <td>BAC</td>\n",
              "      <td>P</td>\n",
              "      <td>24.870</td>\n",
              "      <td>28400</td>\n",
              "      <td></td>\n",
              "      <td>24.86</td>\n",
              "      <td>3020</td>\n",
              "      <td>24.87</td>\n",
              "      <td>1956</td>\n",
              "      <td>1</td>\n",
              "      <td>0.01</td>\n",
              "      <td>0.000402</td>\n",
              "      <td>0.0</td>\n",
              "      <td>0.245857</td>\n",
              "    </tr>\n",
              "    <tr>\n",
              "      <th>24459</th>\n",
              "      <td>2017-09-19T21:00:00.344Z</td>\n",
              "      <td>BAC</td>\n",
              "      <td>T</td>\n",
              "      <td>24.865</td>\n",
              "      <td>99</td>\n",
              "      <td></td>\n",
              "      <td>24.86</td>\n",
              "      <td>3020</td>\n",
              "      <td>24.87</td>\n",
              "      <td>1956</td>\n",
              "      <td>-1</td>\n",
              "      <td>0.01</td>\n",
              "      <td>0.000402</td>\n",
              "      <td>0.0</td>\n",
              "      <td>0.245857</td>\n",
              "    </tr>\n",
              "  </tbody>\n",
              "</table>\n",
              "<p>24460 rows × 15 columns</p>\n",
              "</div>\n",
              "      <button class=\"colab-df-convert\" onclick=\"convertToInteractive('df-de78e33c-d967-4e56-8de2-798a34a54581')\"\n",
              "              title=\"Convert this dataframe to an interactive table.\"\n",
              "              style=\"display:none;\">\n",
              "        \n",
              "  <svg xmlns=\"http://www.w3.org/2000/svg\" height=\"24px\"viewBox=\"0 0 24 24\"\n",
              "       width=\"24px\">\n",
              "    <path d=\"M0 0h24v24H0V0z\" fill=\"none\"/>\n",
              "    <path d=\"M18.56 5.44l.94 2.06.94-2.06 2.06-.94-2.06-.94-.94-2.06-.94 2.06-2.06.94zm-11 1L8.5 8.5l.94-2.06 2.06-.94-2.06-.94L8.5 2.5l-.94 2.06-2.06.94zm10 10l.94 2.06.94-2.06 2.06-.94-2.06-.94-.94-2.06-.94 2.06-2.06.94z\"/><path d=\"M17.41 7.96l-1.37-1.37c-.4-.4-.92-.59-1.43-.59-.52 0-1.04.2-1.43.59L10.3 9.45l-7.72 7.72c-.78.78-.78 2.05 0 2.83L4 21.41c.39.39.9.59 1.41.59.51 0 1.02-.2 1.41-.59l7.78-7.78 2.81-2.81c.8-.78.8-2.07 0-2.86zM5.41 20L4 18.59l7.72-7.72 1.47 1.35L5.41 20z\"/>\n",
              "  </svg>\n",
              "      </button>\n",
              "      \n",
              "  <style>\n",
              "    .colab-df-container {\n",
              "      display:flex;\n",
              "      flex-wrap:wrap;\n",
              "      gap: 12px;\n",
              "    }\n",
              "\n",
              "    .colab-df-convert {\n",
              "      background-color: #E8F0FE;\n",
              "      border: none;\n",
              "      border-radius: 50%;\n",
              "      cursor: pointer;\n",
              "      display: none;\n",
              "      fill: #1967D2;\n",
              "      height: 32px;\n",
              "      padding: 0 0 0 0;\n",
              "      width: 32px;\n",
              "    }\n",
              "\n",
              "    .colab-df-convert:hover {\n",
              "      background-color: #E2EBFA;\n",
              "      box-shadow: 0px 1px 2px rgba(60, 64, 67, 0.3), 0px 1px 3px 1px rgba(60, 64, 67, 0.15);\n",
              "      fill: #174EA6;\n",
              "    }\n",
              "\n",
              "    [theme=dark] .colab-df-convert {\n",
              "      background-color: #3B4455;\n",
              "      fill: #D2E3FC;\n",
              "    }\n",
              "\n",
              "    [theme=dark] .colab-df-convert:hover {\n",
              "      background-color: #434B5C;\n",
              "      box-shadow: 0px 1px 3px 1px rgba(0, 0, 0, 0.15);\n",
              "      filter: drop-shadow(0px 1px 2px rgba(0, 0, 0, 0.3));\n",
              "      fill: #FFFFFF;\n",
              "    }\n",
              "  </style>\n",
              "\n",
              "      <script>\n",
              "        const buttonEl =\n",
              "          document.querySelector('#df-de78e33c-d967-4e56-8de2-798a34a54581 button.colab-df-convert');\n",
              "        buttonEl.style.display =\n",
              "          google.colab.kernel.accessAllowed ? 'block' : 'none';\n",
              "\n",
              "        async function convertToInteractive(key) {\n",
              "          const element = document.querySelector('#df-de78e33c-d967-4e56-8de2-798a34a54581');\n",
              "          const dataTable =\n",
              "            await google.colab.kernel.invokeFunction('convertToInteractive',\n",
              "                                                     [key], {});\n",
              "          if (!dataTable) return;\n",
              "\n",
              "          const docLinkHtml = 'Like what you see? Visit the ' +\n",
              "            '<a target=\"_blank\" href=https://colab.research.google.com/notebooks/data_table.ipynb>data table notebook</a>'\n",
              "            + ' to learn more about interactive tables.';\n",
              "          element.innerHTML = '';\n",
              "          dataTable['output_type'] = 'display_data';\n",
              "          await google.colab.output.renderOutput(dataTable, element);\n",
              "          const docLink = document.createElement('div');\n",
              "          docLink.innerHTML = docLinkHtml;\n",
              "          element.appendChild(docLink);\n",
              "        }\n",
              "      </script>\n",
              "    </div>\n",
              "  </div>\n",
              "  "
            ]
          },
          "metadata": {},
          "execution_count": 29
        }
      ]
    },
    {
      "cell_type": "code",
      "source": [
        "order_sign = np.sign(df['SIZE'])\n",
        "order_sign_autocorr = np.corrcoef(order_sign[:-1], order_sign[1:])\n",
        "print(order_sign_autocorr[0,1])"
      ],
      "metadata": {
        "colab": {
          "base_uri": "https://localhost:8080/",
          "height": 0
        },
        "id": "EH7W-WDIm0rn",
        "outputId": "39a9797c-da63-47ab-e8fe-0b2ebb79a233"
      },
      "execution_count": 30,
      "outputs": [
        {
          "output_type": "stream",
          "name": "stdout",
          "text": [
            "nan\n"
          ]
        },
        {
          "output_type": "stream",
          "name": "stderr",
          "text": [
            "/usr/local/lib/python3.8/dist-packages/numpy/lib/function_base.py:2691: RuntimeWarning: invalid value encountered in true_divide\n",
            "  c /= stddev[:, None]\n"
          ]
        }
      ]
    },
    {
      "cell_type": "markdown",
      "source": [
        "4.  Calculate Mean Spreads at the Exchange Level"
      ],
      "metadata": {
        "id": "1lyaR4XKgakw"
      }
    },
    {
      "cell_type": "code",
      "source": [
        "# Calculate mid-price\n",
        "df['mid_price'] = (df['BID'] + df['OFR']) / 2\n",
        "\n",
        "# Calculate spread\n",
        "df['spread'] = df['OFR'] - df['BID']\n",
        "\n",
        "# Calculate mean spread at the exchange level\n",
        "mean_spread_by_exchange = df.groupby(['date', 'EX'])['spread'].mean()\n",
        "print(mean_spread_by_exchange)\n",
        "\n"
      ],
      "metadata": {
        "colab": {
          "base_uri": "https://localhost:8080/",
          "height": 0
        },
        "id": "cb0FenYVgVtY",
        "outputId": "37bc6f20-dcad-4f0e-ccaa-454a5a5b75ad"
      },
      "execution_count": 36,
      "outputs": [
        {
          "output_type": "stream",
          "name": "stdout",
          "text": [
            "date                      EX\n",
            "2017-09-19T14:30:00.009Z  P     0.02\n",
            "2017-09-19T14:30:01.361Z  T     0.02\n",
            "2017-09-19T14:30:01.525Z  P     0.02\n",
            "2017-09-19T14:30:02.990Z  N     0.02\n",
            "2017-09-19T14:30:02.996Z  N     0.02\n",
            "                                ... \n",
            "2017-09-19T20:59:59.993Z  B     0.01\n",
            "2017-09-19T21:00:00.009Z  P     0.01\n",
            "2017-09-19T21:00:00.013Z  A     0.01\n",
            "2017-09-19T21:00:00.213Z  P     0.01\n",
            "2017-09-19T21:00:00.344Z  T     0.01\n",
            "Name: spread, Length: 24460, dtype: float64\n"
          ]
        }
      ]
    },
    {
      "cell_type": "markdown",
      "metadata": {
        "id": "_IgDAlWvesWr"
      },
      "source": [
        "#### Lee and Ready algorithm \n",
        "A typical classification is \n",
        " *   buyer-initiated  if pt > mt\n",
        " *   buyer-initiated  if pt = mt and pt < pt−1 (downtick)\n",
        " *   seller-initiated if pt < mt\n",
        " *   seller-initiated if pt = mt and pt > pt−1 (uptick)"
      ]
    },
    {
      "cell_type": "markdown",
      "metadata": {
        "id": "Wwe6dwp4esWr"
      },
      "source": [
        "#### Calcualte Spread, Effective Spread and Realized Spread by EXCHANGES\n",
        "Note that for realized spread, using mid-quote in 10 mins \n",
        "1. calculate correlation of three spreads\n",
        "2. plot time series of three spreads by hour \n",
        "2. calculate mean spreads at the Exchange level "
      ]
    },
    {
      "cell_type": "markdown",
      "metadata": {
        "id": "KXtlOdBgesWr"
      },
      "source": [
        "#### Order Sign Correlation\n",
        "1. autocorrelation plot of order sign \n",
        "2. re-produce the above figure in log term (both x-axis and y-axis are in log term)"
      ]
    },
    {
      "cell_type": "markdown",
      "metadata": {
        "id": "COUSFin6esWs"
      },
      "source": [
        "#### Question 3 Quote data\n",
        "Data BAC_nbbo.csv is order bood data (only the best quotes), with each row one of the price or size at the best bid or ask changes which corresponds to change in the supply or demand. \n",
        "* Calculate order imbalance OFI (keep only Nasdaq exchanges)\n",
        "* Aggregate OFI to second level (take summation)\n",
        "\n",
        "##### Order Imbalance\n",
        "Order flow imbalance represents the changes in supply and demand. \n",
        "* Best bid or size at the best bid increase -> increase in demand.\n",
        "* Best bid or size at the best bid decreases -> decrease in demand.\n",
        "* Best ask decreases or size at the best ask increases -> increase in supply.\n",
        "* Best ask increases or size at the best ask decreases -> decrease in supply.\n",
        "\n",
        "Mathematically we summarise these four effects at from time $n-1$ to $n$ as:\n",
        "$$e_n = I_{B_n \\geq B_{n-1}} q_n - I_{B_n \\leq B_{n-1}} q_{n-1} - I_{A_n \\leq A_{n-1}} q_n + I_{A_n \\geq A_{n-1}} q_{n-1} $$\n",
        "where $B_n$ is the beset Bid price at time $n$ and $q_n$ is the size at those prices "
      ]
    },
    {
      "cell_type": "code",
      "source": [
        "import pandas as pd\n",
        "\n",
        "data = pd.read_csv(\"BAC_nbbo.csv\")\n"
      ],
      "metadata": {
        "id": "MGtIHVGKosGB"
      },
      "execution_count": 42,
      "outputs": []
    },
    {
      "cell_type": "code",
      "execution_count": 43,
      "metadata": {
        "id": "uRcB1MdtesWs"
      },
      "outputs": [],
      "source": [
        "# Creat second stamp\n",
        "data['TIME_M'] = pd.to_datetime(data['DATE'].astype(str) + ' ' + data['TIME_M'])\n",
        "data.set_index('TIME_M', inplace=True)\n",
        "data_sec = data.resample('1S').last()"
      ]
    },
    {
      "cell_type": "code",
      "execution_count": 44,
      "metadata": {
        "id": "n3zyA29fesWs"
      },
      "outputs": [],
      "source": [
        "## only keep trading hours\n",
        "trading_hours = [('14:30', '21:00')]\n",
        "trading_hours = [(pd.to_datetime(start, format='%H:%M') - pd.Timedelta(hours=5),\n",
        "                  pd.to_datetime(end, format='%H:%M') - pd.Timedelta(hours=5) + pd.Timedelta(days=1))\n",
        "                 for start, end in trading_hours]\n",
        "mask = pd.Series(False, index=data_sec.index)\n",
        "for start, end in trading_hours:\n",
        "    mask = mask | ((data_sec.index >= start) & (data_sec.index < end))\n",
        "data_sec = data_sec.loc[mask]\n"
      ]
    },
    {
      "cell_type": "code",
      "execution_count": 46,
      "metadata": {
        "colab": {
          "base_uri": "https://localhost:8080/",
          "height": 0
        },
        "id": "TU1EcyFuesWt",
        "outputId": "0936dbec-89bb-4c6d-c7e8-e2a84ae04db9"
      },
      "outputs": [
        {
          "output_type": "stream",
          "name": "stderr",
          "text": [
            "/usr/local/lib/python3.8/dist-packages/numpy/core/fromnumeric.py:3440: RuntimeWarning: Mean of empty slice.\n",
            "  return _methods._mean(a, axis=axis, dtype=dtype,\n",
            "/usr/local/lib/python3.8/dist-packages/numpy/core/_methods.py:189: RuntimeWarning: invalid value encountered in double_scalars\n",
            "  ret = ret.dtype.type(ret / rcount)\n"
          ]
        }
      ],
      "source": [
        "# notice the extreme values in BID and ASK!! \n",
        "# need to clean data \n",
        "# first, remove negative spreads\n",
        "# then outlier quotes\n",
        "#Calculate the bid-ask spread for each row by subtracting the best ask price from the best bid price.\n",
        "data_sec['spread'] = data_sec['ASK'] - data_sec['BID']\n",
        "#Remove rows with negative spreads using a boolean mask.\n",
        "data_sec = data_sec[data_sec['spread'] >= 0]\n",
        "#Calculate the z-score of the bid and ask prices using the median and median absolute deviation (MAD) as robust measures of location and scale, respectively.\n",
        "from statsmodels.robust.scale import mad\n",
        "\n",
        "bid_med = data_sec['BID'].median()\n",
        "ask_med = data_sec['ASK'].median()\n",
        "bid_mad = mad(data_sec['BID'])\n",
        "ask_mad = mad(data_sec['ASK'])\n",
        "data_sec['bid_z'] = (data_sec['BID'] - bid_med) / bid_mad\n",
        "data_sec['ask_z'] = (data_sec['ASK'] - ask_med) / ask_mad\n",
        "#Define a threshold for outlier quotes as a number of MADs from the median, and remove rows with bid or ask z-scores greater than the threshold.\n",
        "outlier_threshold = 5\n",
        "data_sec = data_sec[(data_sec['bid_z'].abs() <= outlier_threshold) &\n",
        "                    (data_sec['ask_z'].abs() <= outlier_threshold)]\n"
      ]
    },
    {
      "cell_type": "code",
      "source": [
        "print(data_sec.columns)"
      ],
      "metadata": {
        "colab": {
          "base_uri": "https://localhost:8080/",
          "height": 0
        },
        "id": "SVBRC6bqz9y1",
        "outputId": "73d302e7-dc17-470a-ae06-ee3eeb100d6d"
      },
      "execution_count": 62,
      "outputs": [
        {
          "output_type": "stream",
          "name": "stdout",
          "text": [
            "Index(['DATE', 'EX', 'BID', 'BIDSIZ', 'ASK', 'ASKSIZ', 'QU_COND', 'QU_SEQNUM',\n",
            "       'NATBBO_IND', 'QU_CANCEL', 'QU_SOURCE', 'SYM_ROOT', 'SYM_SUFFIX',\n",
            "       'spread', 'bid_z', 'ask_z'],\n",
            "      dtype='object')\n"
          ]
        }
      ]
    },
    {
      "cell_type": "code",
      "source": [
        "data_sec['TIME_M'] = data_sec.index.time\n"
      ],
      "metadata": {
        "id": "WK6Oky3N6cxA"
      },
      "execution_count": 70,
      "outputs": []
    },
    {
      "cell_type": "code",
      "execution_count": 73,
      "metadata": {
        "id": "Ha8UiaUbesWt"
      },
      "outputs": [],
      "source": [
        "# Aggregate by second \n",
        "# Construct return as log difference of last mid price and first mid price of each second \n",
        "data_sec['datetime'] = pd.to_datetime(data_sec['DATE'].astype(str) + ' ' + data_sec['TIME_M'])\n",
        "data_sec.set_index('datetime', inplace=True)\n",
        "data_sec = data_sec.resample('1S').mean()\n",
        "data_sec['mid'] = (data_sec['BID'] + data_sec['ASK']) / 2\n",
        "data_sec['mid_return'] = np.log(data_sec['mid']).diff()"
      ]
    },
    {
      "cell_type": "markdown",
      "metadata": {
        "id": "onLiDi6lesWt"
      },
      "source": [
        "Using OFI to generate trading signal: first do train/test split by selecting the first 70% of the data\n",
        "\n",
        "\n"
      ]
    },
    {
      "cell_type": "code",
      "source": [
        "print(data_sec.columns)"
      ],
      "metadata": {
        "colab": {
          "base_uri": "https://localhost:8080/",
          "height": 0
        },
        "id": "5ZD7XbQ37LdD",
        "outputId": "a3ce4132-6f34-4f27-e4a6-1557d6ee3105"
      },
      "execution_count": 78,
      "outputs": [
        {
          "output_type": "stream",
          "name": "stdout",
          "text": [
            "Index(['EX', 'BID', 'BIDSIZ', 'ASK', 'ASKSIZ', 'QU_COND', 'QU_SEQNUM',\n",
            "       'NATBBO_IND', 'QU_CANCEL', 'QU_SOURCE', 'SYM_ROOT', 'SYM_SUFFIX',\n",
            "       'spread', 'bid_z', 'ask_z', 'TIME_M', 'mid', 'mid_return'],\n",
            "      dtype='object')\n"
          ]
        }
      ]
    },
    {
      "cell_type": "code",
      "source": [
        "ofi = (data_sec['BID'] >= data_sec['BID'].shift()) * data_sec['BIDSIZ'] \\\n",
        "    - (data_sec['BID'] <= data_sec['BID'].shift()) * data_sec['BIDSIZ'].shift() \\\n",
        "    - (data_sec['ASK'] <= data_sec['ASK'].shift()) * data_sec['ASKSIZ'] \\\n",
        "    + (data_sec['ASK'] >= data_sec['ASK'].shift()) * data_sec['ASKSIZ'].shift()\n",
        "\n",
        "ofi = ofi.loc['2015-01-02':'2022-01-01']  # Only keep Nasdaq exchanges and trading hours"
      ],
      "metadata": {
        "id": "lo2QwLZr7B_F"
      },
      "execution_count": 80,
      "outputs": []
    },
    {
      "cell_type": "code",
      "source": [
        "train_size = int(len(ofi) * 0.7)\n",
        "train_ofi = ofi.iloc[:train_size]\n",
        "test_ofi = ofi.iloc[train_size:]"
      ],
      "metadata": {
        "id": "sb9LEeJm8L0M"
      },
      "execution_count": 82,
      "outputs": []
    },
    {
      "cell_type": "code",
      "execution_count": 90,
      "metadata": {
        "colab": {
          "base_uri": "https://localhost:8080/",
          "height": 0
        },
        "id": "hra2IdGkesWt",
        "outputId": "9efa524b-4355-4391-9f2b-d786d1ef0af8"
      },
      "outputs": [
        {
          "output_type": "stream",
          "name": "stdout",
          "text": [
            "Correlation between OFI and log returns for test period: nan\n"
          ]
        }
      ],
      "source": [
        "# explainatry power for test sample \n",
        "# Calculate log returns for test period\n",
        "mid_price_test = (data_sec['BID'].loc[test_ofi.index] + data_sec['ASK'].loc[test_ofi.index]) / 2\n",
        "log_return_test = np.log(mid_price_test).diff()\n",
        "\n",
        "# Remove missing values from OFI and log return data\n",
        "test_ofi_clean = test_ofi.dropna()\n",
        "log_return_test_clean = log_return_test.loc[test_ofi_clean.index]\n",
        "\n",
        "# Calculate correlation between OFI and log returns\n",
        "corr_test = test_ofi_clean.corr(log_return_test_clean)\n",
        "\n",
        "print(f\"Correlation between OFI and log returns for test period: {corr_test:.2f}\")\n"
      ]
    },
    {
      "cell_type": "markdown",
      "metadata": {
        "id": "3Ici_54EesWu"
      },
      "source": [
        "##### Construct a Predictive Trading Signal\n",
        "BUT! The above analysis is in-sample. We want to see out-sample results. "
      ]
    },
    {
      "cell_type": "code",
      "source": [
        "def OFI(data):\n",
        "  demand_change = data['BIDSIZ'].diff()\n",
        "  supply_change = data['ASKSIZ'].diff()\n",
        "\n",
        "    # Calculate OFI\n",
        "  OFI = demand_change - supply_change\n",
        "\n",
        "    # Only keep data from Nasdaq exchanges\n",
        "  OFI_NASDAQ = OFI.loc[data['EX'] == 'Q']\n",
        "\n",
        "  return OFI_NASDAQ"
      ],
      "metadata": {
        "id": "q0htJyjo_UvQ"
      },
      "execution_count": 98,
      "outputs": []
    },
    {
      "cell_type": "code",
      "source": [
        "from sklearn.linear_model import LinearRegression"
      ],
      "metadata": {
        "id": "u0CVZerk_ydr"
      },
      "execution_count": 100,
      "outputs": []
    },
    {
      "cell_type": "code",
      "source": [
        "data_sec['midprice'] = (data_sec['BID'] + data_sec['ASK']) / 2\n"
      ],
      "metadata": {
        "id": "iXNtVp46DW12"
      },
      "execution_count": 115,
      "outputs": []
    },
    {
      "cell_type": "code",
      "execution_count": 118,
      "metadata": {
        "id": "iAI5oqJoesWu"
      },
      "outputs": [],
      "source": [
        "# Test whether OFI can explain FUTURE return variations\n",
        "# Split sample to test and train samples again \n",
        "# Test whether lagged OFI can predict FUTURE return\n",
        "# Split data into train and test samples\n",
        "n_obs = data_sec.shape[0]\n",
        "n_train = int(n_obs * 0.7)\n",
        "\n",
        "train_data = data_sec.iloc[:n_train, :]\n",
        "test_data = data_sec.iloc[n_train:, :]\n",
        "test_data['ret_1'] = np.log(test_data['midprice'].shift(-1)) - np.log(test_data['midprice'])\n"
      ]
    },
    {
      "cell_type": "code",
      "source": [
        "def calc_ofi(data):\n",
        "    ofi = []\n",
        "    for i in range(1, len(data)):\n",
        "        # check for changes in the best bid and ask prices and sizes\n",
        "        bid_change = data['BID'].iloc[i] != data['BID'].iloc[i-1] or data['BIDSIZ'].iloc[i] != data['BIDSIZ'].iloc[i-1]\n",
        "        ask_change = data['ASK'].iloc[i] != data['ASK'].iloc[i-1] or data['ASKSIZ'].iloc[i] != data['ASKSIZ'].iloc[i-1]\n",
        "        \n",
        "        if bid_change and not ask_change:\n",
        "            # increase in demand\n",
        "            ofi.append(data['BIDSIZ'].iloc[i] - data['BIDSIZ'].iloc[i-1])\n",
        "        elif ask_change and not bid_change:\n",
        "            # increase in supply\n",
        "            ofi.append(-(data['ASKSIZ'].iloc[i] - data['ASKSIZ'].iloc[i-1]))\n",
        "        else:\n",
        "            # no change or simultaneous changes\n",
        "            ofi.append(0)\n",
        "    \n",
        "    return ofi\n"
      ],
      "metadata": {
        "id": "_baUhQRXEIzA"
      },
      "execution_count": 122,
      "outputs": []
    },
    {
      "cell_type": "code",
      "source": [
        "train_size = int(len(data) * 0.7)\n",
        "train = data.iloc[:train_size]\n"
      ],
      "metadata": {
        "id": "wSEsjlQNEaLb"
      },
      "execution_count": 124,
      "outputs": []
    },
    {
      "cell_type": "code",
      "source": [
        "train['ofi'] = calc_ofi(data_sec[data_sec.index.isin(train.index)])"
      ],
      "metadata": {
        "id": "uhaUSJEJDtMo"
      },
      "execution_count": null,
      "outputs": []
    },
    {
      "cell_type": "code",
      "source": [
        "from sklearn.linear_model import LinearRegression\n",
        "\n",
        "# Create lagged OFI variable\n",
        "train_data['ofi_lag'] = train_data['ofi'].shift(1)\n",
        "\n",
        "# Fit linear regression model\n",
        "lr = LinearRegression()\n",
        "lr.fit(train_data[['ofi_lag']], train_data['ret_1'])\n",
        "\n",
        "# Predict test set returns using fitted model\n",
        "test_data['ret_1_pred'] = lr.predict(test_data[['ofi']])"
      ],
      "metadata": {
        "id": "aNvDL9vvDiwn"
      },
      "execution_count": null,
      "outputs": []
    },
    {
      "cell_type": "code",
      "source": [
        "from sklearn.metrics import r2_score\n",
        "\n",
        "r2 = r2_score(test_data['ret_1'], test_data['ret_1_pred'])\n",
        "print(f\"R-squared: {r2}\")"
      ],
      "metadata": {
        "id": "XB61UdHdEsbG"
      },
      "execution_count": null,
      "outputs": []
    },
    {
      "cell_type": "code",
      "source": [
        "data_sec.columns"
      ],
      "metadata": {
        "colab": {
          "base_uri": "https://localhost:8080/",
          "height": 0
        },
        "id": "iuUmgd2ADGjr",
        "outputId": "4e272f46-43aa-4e78-8c35-501c0d7a2853"
      },
      "execution_count": 114,
      "outputs": [
        {
          "output_type": "execute_result",
          "data": {
            "text/plain": [
              "Index(['EX', 'BID', 'BIDSIZ', 'ASK', 'ASKSIZ', 'QU_COND', 'QU_SEQNUM',\n",
              "       'NATBBO_IND', 'QU_CANCEL', 'QU_SOURCE', 'SYM_ROOT', 'SYM_SUFFIX',\n",
              "       'spread', 'bid_z', 'ask_z', 'TIME_M', 'mid', 'mid_return'],\n",
              "      dtype='object')"
            ]
          },
          "metadata": {},
          "execution_count": 114
        }
      ]
    },
    {
      "cell_type": "code",
      "execution_count": null,
      "metadata": {
        "id": "WIDA20ndesWu"
      },
      "outputs": [],
      "source": [
        "# explainatry power for test sample\n",
        "# Calculate OFI for test data\n",
        "test_ofi = calc_ofi(test)\n",
        "\n",
        "# Calculate one-second ahead returns for test data\n",
        "test['ret'] = np.log(test['midprice'].shift(-1)) - np.log(test['midprice'])\n",
        "\n",
        "# Calculate the mean return for each OFI value\n",
        "test_ofi_ret = test.groupby('ofi')['ret'].mean()\n",
        "\n",
        "# Calculate the explanatory power of OFI on test returns\n",
        "test_r2 = np.corrcoef(test['ofi'].values, test['ret'].values)[0, 1] ** 2\n",
        "\n",
        "# Print the test R-squared value\n",
        "print(\"Test R-squared: \", test_r2)\n"
      ]
    },
    {
      "cell_type": "code",
      "execution_count": null,
      "metadata": {
        "id": "QqUrs5YeesWu"
      },
      "outputs": [],
      "source": [
        "# plots cummulative return of the strategy using signal from past OFI \n",
        "# create trading signal using lagged OFI\n",
        "test['signal'] = np.where(test['lag_ofi'] > 0, 1, -1)\n",
        "\n",
        "# calculate one-second ahead return using midprice\n",
        "test['return'] = np.log(test['midprice'].shift(-1)) - np.log(test['midprice'])\n",
        "\n",
        "# calculate strategy return\n",
        "test['strategy_return'] = test['signal'] * test['return']\n",
        "\n",
        "# calculate cumulative strategy return\n",
        "test['cum_strategy_return'] = test['strategy_return'].cumsum()\n",
        "\n",
        "# plot cumulative strategy return\n",
        "plt.plot(test.index, test['cum_strategy_return'])\n",
        "plt.title('Cumulative Return of Trading Strategy')\n",
        "plt.xlabel('Time')\n",
        "plt.ylabel('Cumulative Return')\n",
        "plt.show()\n"
      ]
    }
  ],
  "metadata": {
    "kernelspec": {
      "display_name": "base",
      "language": "python",
      "name": "python3"
    },
    "language_info": {
      "codemirror_mode": {
        "name": "ipython",
        "version": 3
      },
      "file_extension": ".py",
      "mimetype": "text/x-python",
      "name": "python",
      "nbconvert_exporter": "python",
      "pygments_lexer": "ipython3",
      "version": "3.9.7 (default, Sep 16 2021, 08:50:36) \n[Clang 10.0.0 ]"
    },
    "orig_nbformat": 4,
    "vscode": {
      "interpreter": {
        "hash": "62a7af92ab6101a3a94502fdbe78225ebe37029b375878b440ea7d81328eab22"
      }
    },
    "colab": {
      "provenance": []
    }
  },
  "nbformat": 4,
  "nbformat_minor": 0
}