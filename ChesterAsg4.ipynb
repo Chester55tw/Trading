{
  "cells": [
    {
      "cell_type": "markdown",
      "metadata": {
        "id": "XU2EiTjiXY2Q"
      },
      "source": [
        "#### ReadMe\n",
        "This exercise is about Bitcoin. The data records all trades at Coinbase in March 2020. Unluckily, we only see market price and quantity traded. But the data gives the indicator of “BUY” or “SELL” on the taker side. This indicator is not available for most of equity trades dataset."
      ]
    },
    {
      "cell_type": "markdown",
      "metadata": {
        "id": "8deJ6o6xXY2S"
      },
      "source": [
        "#### Questions: \n",
        "\n",
        "* Calculate Kyle’s lambda (market impact) for all the data in March\n",
        "* Calculate Kyle’s lambda (market impact), volume, signed volume, volume-weighted price by day and hour\n",
        "* Plot constructed variables in the previous bullet point \n",
        "* What patterns do you see? Make some comments\n",
        "* Is there momentum in Bitcoin returns?\n",
        "* Can you ﬁgure out good predictor variables for returns?\n",
        "* Construct a trading strategy based on your analysis\n",
        "* Plot the performance of the trading strategy \n",
        "\n"
      ]
    },
    {
      "cell_type": "code",
      "source": [
        "from google.colab import drive\n",
        "drive.mount('/content/drive')\n",
        "%cd /content/drive/MyDrive"
      ],
      "metadata": {
        "colab": {
          "base_uri": "https://localhost:8080/"
        },
        "id": "k0cSN2dtXlrJ",
        "outputId": "c4027dfe-f449-412a-d80d-b056657142a3"
      },
      "execution_count": 1,
      "outputs": [
        {
          "output_type": "stream",
          "name": "stdout",
          "text": [
            "Mounted at /content/drive\n",
            "/content/drive/MyDrive\n"
          ]
        }
      ]
    },
    {
      "cell_type": "code",
      "source": [
        "pip install yfinance"
      ],
      "metadata": {
        "colab": {
          "base_uri": "https://localhost:8080/"
        },
        "id": "k-_Lf3iHYIit",
        "outputId": "484fdc2b-0b48-4a2c-9469-677076f006fb"
      },
      "execution_count": 2,
      "outputs": [
        {
          "output_type": "stream",
          "name": "stdout",
          "text": [
            "Looking in indexes: https://pypi.org/simple, https://us-python.pkg.dev/colab-wheels/public/simple/\n",
            "Collecting yfinance\n",
            "  Downloading yfinance-0.2.12-py2.py3-none-any.whl (59 kB)\n",
            "\u001b[2K     \u001b[90m━━━━━━━━━━━━━━━━━━━━━━━━━━━━━━━━━━━━━━━━\u001b[0m \u001b[32m59.2/59.2 KB\u001b[0m \u001b[31m3.5 MB/s\u001b[0m eta \u001b[36m0:00:00\u001b[0m\n",
            "\u001b[?25hRequirement already satisfied: pandas>=1.3.0 in /usr/local/lib/python3.8/dist-packages (from yfinance) (1.3.5)\n",
            "Requirement already satisfied: pytz>=2022.5 in /usr/local/lib/python3.8/dist-packages (from yfinance) (2022.7.1)\n",
            "Collecting cryptography>=3.3.2\n",
            "  Downloading cryptography-39.0.1-cp36-abi3-manylinux_2_28_x86_64.whl (4.2 MB)\n",
            "\u001b[2K     \u001b[90m━━━━━━━━━━━━━━━━━━━━━━━━━━━━━━━━━━━━━━━━\u001b[0m \u001b[32m4.2/4.2 MB\u001b[0m \u001b[31m57.3 MB/s\u001b[0m eta \u001b[36m0:00:00\u001b[0m\n",
            "\u001b[?25hCollecting html5lib>=1.1\n",
            "  Downloading html5lib-1.1-py2.py3-none-any.whl (112 kB)\n",
            "\u001b[2K     \u001b[90m━━━━━━━━━━━━━━━━━━━━━━━━━━━━━━━━━━━━━━\u001b[0m \u001b[32m112.2/112.2 KB\u001b[0m \u001b[31m15.0 MB/s\u001b[0m eta \u001b[36m0:00:00\u001b[0m\n",
            "\u001b[?25hRequirement already satisfied: appdirs>=1.4.4 in /usr/local/lib/python3.8/dist-packages (from yfinance) (1.4.4)\n",
            "Requirement already satisfied: lxml>=4.9.1 in /usr/local/lib/python3.8/dist-packages (from yfinance) (4.9.2)\n",
            "Requirement already satisfied: numpy>=1.16.5 in /usr/local/lib/python3.8/dist-packages (from yfinance) (1.22.4)\n",
            "Collecting beautifulsoup4>=4.11.1\n",
            "  Downloading beautifulsoup4-4.11.2-py3-none-any.whl (129 kB)\n",
            "\u001b[2K     \u001b[90m━━━━━━━━━━━━━━━━━━━━━━━━━━━━━━━━━━━━━━\u001b[0m \u001b[32m129.4/129.4 KB\u001b[0m \u001b[31m14.7 MB/s\u001b[0m eta \u001b[36m0:00:00\u001b[0m\n",
            "\u001b[?25hRequirement already satisfied: multitasking>=0.0.7 in /usr/local/lib/python3.8/dist-packages (from yfinance) (0.0.11)\n",
            "Collecting requests>=2.26\n",
            "  Downloading requests-2.28.2-py3-none-any.whl (62 kB)\n",
            "\u001b[2K     \u001b[90m━━━━━━━━━━━━━━━━━━━━━━━━━━━━━━━━━━━━━━━━\u001b[0m \u001b[32m62.8/62.8 KB\u001b[0m \u001b[31m6.7 MB/s\u001b[0m eta \u001b[36m0:00:00\u001b[0m\n",
            "\u001b[?25hCollecting frozendict>=2.3.4\n",
            "  Downloading frozendict-2.3.5-cp38-cp38-manylinux_2_17_x86_64.manylinux2014_x86_64.whl (111 kB)\n",
            "\u001b[2K     \u001b[90m━━━━━━━━━━━━━━━━━━━━━━━━━━━━━━━━━━━━━━\u001b[0m \u001b[32m111.2/111.2 KB\u001b[0m \u001b[31m15.4 MB/s\u001b[0m eta \u001b[36m0:00:00\u001b[0m\n",
            "\u001b[?25hCollecting soupsieve>1.2\n",
            "  Downloading soupsieve-2.4-py3-none-any.whl (37 kB)\n",
            "Requirement already satisfied: cffi>=1.12 in /usr/local/lib/python3.8/dist-packages (from cryptography>=3.3.2->yfinance) (1.15.1)\n",
            "Requirement already satisfied: six>=1.9 in /usr/local/lib/python3.8/dist-packages (from html5lib>=1.1->yfinance) (1.15.0)\n",
            "Requirement already satisfied: webencodings in /usr/local/lib/python3.8/dist-packages (from html5lib>=1.1->yfinance) (0.5.1)\n",
            "Requirement already satisfied: python-dateutil>=2.7.3 in /usr/local/lib/python3.8/dist-packages (from pandas>=1.3.0->yfinance) (2.8.2)\n",
            "Requirement already satisfied: charset-normalizer<4,>=2 in /usr/local/lib/python3.8/dist-packages (from requests>=2.26->yfinance) (3.0.1)\n",
            "Requirement already satisfied: idna<4,>=2.5 in /usr/local/lib/python3.8/dist-packages (from requests>=2.26->yfinance) (2.10)\n",
            "Requirement already satisfied: certifi>=2017.4.17 in /usr/local/lib/python3.8/dist-packages (from requests>=2.26->yfinance) (2022.12.7)\n",
            "Requirement already satisfied: urllib3<1.27,>=1.21.1 in /usr/local/lib/python3.8/dist-packages (from requests>=2.26->yfinance) (1.26.14)\n",
            "Requirement already satisfied: pycparser in /usr/local/lib/python3.8/dist-packages (from cffi>=1.12->cryptography>=3.3.2->yfinance) (2.21)\n",
            "Installing collected packages: soupsieve, requests, html5lib, frozendict, cryptography, beautifulsoup4, yfinance\n",
            "  Attempting uninstall: requests\n",
            "    Found existing installation: requests 2.25.1\n",
            "    Uninstalling requests-2.25.1:\n",
            "      Successfully uninstalled requests-2.25.1\n",
            "  Attempting uninstall: html5lib\n",
            "    Found existing installation: html5lib 1.0.1\n",
            "    Uninstalling html5lib-1.0.1:\n",
            "      Successfully uninstalled html5lib-1.0.1\n",
            "  Attempting uninstall: beautifulsoup4\n",
            "    Found existing installation: beautifulsoup4 4.6.3\n",
            "    Uninstalling beautifulsoup4-4.6.3:\n",
            "      Successfully uninstalled beautifulsoup4-4.6.3\n",
            "Successfully installed beautifulsoup4-4.11.2 cryptography-39.0.1 frozendict-2.3.5 html5lib-1.1 requests-2.28.2 soupsieve-2.4 yfinance-0.2.12\n"
          ]
        }
      ]
    },
    {
      "cell_type": "code",
      "source": [
        "pip install datatable"
      ],
      "metadata": {
        "colab": {
          "base_uri": "https://localhost:8080/"
        },
        "id": "Dxg4iRKkYRQo",
        "outputId": "67852843-ff6e-46e7-ce44-5a0ccf1eccaf"
      },
      "execution_count": 3,
      "outputs": [
        {
          "output_type": "stream",
          "name": "stdout",
          "text": [
            "Looking in indexes: https://pypi.org/simple, https://us-python.pkg.dev/colab-wheels/public/simple/\n",
            "Collecting datatable\n",
            "  Downloading datatable-1.0.0-cp38-cp38-manylinux_2_12_x86_64.whl (96.6 MB)\n",
            "\u001b[2K     \u001b[90m━━━━━━━━━━━━━━━━━━━━━━━━━━━━━━━━━━━━━━━━\u001b[0m \u001b[32m96.6/96.6 MB\u001b[0m \u001b[31m4.0 MB/s\u001b[0m eta \u001b[36m0:00:00\u001b[0m\n",
            "\u001b[?25hInstalling collected packages: datatable\n",
            "Successfully installed datatable-1.0.0\n"
          ]
        }
      ]
    },
    {
      "cell_type": "code",
      "source": [
        "pip install regpyhdfe"
      ],
      "metadata": {
        "colab": {
          "base_uri": "https://localhost:8080/"
        },
        "id": "yeigDLsHY3Tj",
        "outputId": "3150646f-7871-4413-c97f-7c3d6e3b4ccf"
      },
      "execution_count": 4,
      "outputs": [
        {
          "output_type": "stream",
          "name": "stdout",
          "text": [
            "Looking in indexes: https://pypi.org/simple, https://us-python.pkg.dev/colab-wheels/public/simple/\n",
            "Collecting regpyhdfe\n",
            "  Downloading regpyhdfe-0.0.10-py3-none-any.whl (8.3 kB)\n",
            "Collecting pyhdfe\n",
            "  Downloading pyhdfe-0.1.2-py3-none-any.whl (18 kB)\n",
            "Requirement already satisfied: numpy in /usr/local/lib/python3.8/dist-packages (from regpyhdfe) (1.22.4)\n",
            "Requirement already satisfied: statsmodels in /usr/local/lib/python3.8/dist-packages (from regpyhdfe) (0.12.2)\n",
            "Requirement already satisfied: pandas in /usr/local/lib/python3.8/dist-packages (from regpyhdfe) (1.3.5)\n",
            "Requirement already satisfied: patsy in /usr/local/lib/python3.8/dist-packages (from regpyhdfe) (0.5.3)\n",
            "Requirement already satisfied: python-dateutil>=2.7.3 in /usr/local/lib/python3.8/dist-packages (from pandas->regpyhdfe) (2.8.2)\n",
            "Requirement already satisfied: pytz>=2017.3 in /usr/local/lib/python3.8/dist-packages (from pandas->regpyhdfe) (2022.7.1)\n",
            "Requirement already satisfied: six in /usr/local/lib/python3.8/dist-packages (from patsy->regpyhdfe) (1.15.0)\n",
            "Requirement already satisfied: scipy>=1.0.0 in /usr/local/lib/python3.8/dist-packages (from pyhdfe->regpyhdfe) (1.7.3)\n",
            "Installing collected packages: pyhdfe, regpyhdfe\n",
            "Successfully installed pyhdfe-0.1.2 regpyhdfe-0.0.10\n"
          ]
        }
      ]
    },
    {
      "cell_type": "markdown",
      "metadata": {
        "id": "YQtm7jYHXY2S"
      },
      "source": [
        "#### Import the relevant modules"
      ]
    },
    {
      "cell_type": "code",
      "execution_count": 5,
      "metadata": {
        "id": "9WjkP-7QXY2T",
        "colab": {
          "base_uri": "https://localhost:8080/",
          "height": 17
        },
        "outputId": "20b43913-92a9-4bcc-c4e0-b4306dc441f2"
      },
      "outputs": [
        {
          "output_type": "display_data",
          "data": {
            "text/plain": [
              "<IPython.core.display.HTML object>"
            ],
            "text/html": [
              "<style type='text/css'>\n",
              ".datatable table.frame { margin-bottom: 0; }\n",
              ".datatable table.frame thead { border-bottom: none; }\n",
              ".datatable table.frame tr.coltypes td {  color: #FFFFFF;  line-height: 6px;  padding: 0 0.5em;}\n",
              ".datatable .bool    { background: #DDDD99; }\n",
              ".datatable .object  { background: #565656; }\n",
              ".datatable .int     { background: #5D9E5D; }\n",
              ".datatable .float   { background: #4040CC; }\n",
              ".datatable .str     { background: #CC4040; }\n",
              ".datatable .time    { background: #40CC40; }\n",
              ".datatable .row_index {  background: var(--jp-border-color3);  border-right: 1px solid var(--jp-border-color0);  color: var(--jp-ui-font-color3);  font-size: 9px;}\n",
              ".datatable .frame tbody td { text-align: left; }\n",
              ".datatable .frame tr.coltypes .row_index {  background: var(--jp-border-color0);}\n",
              ".datatable th:nth-child(2) { padding-left: 12px; }\n",
              ".datatable .hellipsis {  color: var(--jp-cell-editor-border-color);}\n",
              ".datatable .vellipsis {  background: var(--jp-layout-color0);  color: var(--jp-cell-editor-border-color);}\n",
              ".datatable .na {  color: var(--jp-cell-editor-border-color);  font-size: 80%;}\n",
              ".datatable .sp {  opacity: 0.25;}\n",
              ".datatable .footer { font-size: 9px; }\n",
              ".datatable .frame_dimensions {  background: var(--jp-border-color3);  border-top: 1px solid var(--jp-border-color0);  color: var(--jp-ui-font-color3);  display: inline-block;  opacity: 0.6;  padding: 1px 10px 1px 5px;}\n",
              "</style>\n"
            ]
          },
          "metadata": {}
        }
      ],
      "source": [
        "import pandas as pd\n",
        "pd.options.mode.chained_assignment = None  # default='warn'\n",
        "import numpy as np\n",
        "import yfinance as yf\n",
        "import requests\n",
        "from math import sqrt\n",
        "import matplotlib.pyplot as plt\n",
        "import datatable as dt\n",
        "from datatable import dt, f, by, g, join, sort, update, ifelse\n",
        "import os \n",
        "import math\n",
        "from datetime import datetime\n",
        "from regpyhdfe import Regpyhdfe\n"
      ]
    },
    {
      "cell_type": "code",
      "source": [
        "BTC=os.listdir ('BTC_coinbase_trades')\n",
        "BTC_list = BTC[1:]\n",
        "df_list=[]"
      ],
      "metadata": {
        "id": "jfC8mWYdZzgv"
      },
      "execution_count": 6,
      "outputs": []
    },
    {
      "cell_type": "code",
      "execution_count": 7,
      "metadata": {
        "id": "cHWWXBOtXY2U"
      },
      "outputs": [],
      "source": [
        "# Read in all files in the folder (note that some files have difference sizes)\n",
        "for i in range (20200301, 20200331):\n",
        "    path = 'BTC_coinbase_trades' + \"/\" + str(i)\n",
        "    df=pd.read_csv(path +\"/\"+'COINBASE_SPOT_BTC_USD.csv.gz', compression='gzip', header=0, sep=';')\n",
        "    df_list.append (df)"
      ]
    },
    {
      "cell_type": "code",
      "source": [
        "df= pd.concat([df for df in df_list], ignore_index=True)\n",
        "df"
      ],
      "metadata": {
        "colab": {
          "base_uri": "https://localhost:8080/",
          "height": 633
        },
        "id": "pfMSYaLpeafY",
        "outputId": "1ccfcc97-1225-4440-f495-fdaa2fcef85f"
      },
      "execution_count": 45,
      "outputs": [
        {
          "output_type": "execute_result",
          "data": {
            "text/plain": [
              "                       time_exchange                 time_coinapi  \\\n",
              "0        2020-03-01T00:00:00.0446140  2020-03-01T00:00:00.1414456   \n",
              "1        2020-03-01T00:00:00.0446140  2020-03-01T00:00:00.1423443   \n",
              "2        2020-03-01T00:00:00.3049610  2020-03-01T00:00:00.3886382   \n",
              "3        2020-03-01T00:00:00.6032220  2020-03-01T00:00:00.6882787   \n",
              "4        2020-03-01T00:00:00.6032220  2020-03-01T00:00:00.6889379   \n",
              "...                              ...                          ...   \n",
              "3459929  2020-03-30T23:59:59.0496940  2020-03-30T23:59:59.0882491   \n",
              "3459930  2020-03-30T23:59:59.0617430  2020-03-30T23:59:59.1029168   \n",
              "3459931  2020-03-30T23:59:59.0860910  2020-03-30T23:59:59.1257373   \n",
              "3459932  2020-03-30T23:59:59.2300870  2020-03-30T23:59:59.2710364   \n",
              "3459933  2020-03-30T23:59:59.5337060  2020-03-30T23:59:59.5726747   \n",
              "\n",
              "                                         guid    price  base_amount  \\\n",
              "0        679ee89b-5519-43f1-923b-daded92057f3  8523.33     0.400000   \n",
              "1        d8e7d6bd-7393-4ec9-8e26-7908029c9d21  8523.33     0.060150   \n",
              "2        d0226b21-0475-44c2-9eaa-549c58af18b7  8523.33     0.001810   \n",
              "3        1ca08d8d-a93f-4f99-9797-68b2dc1f5c23  8523.32     0.017000   \n",
              "4        0e44b485-17e1-48d3-b0ae-2a46c3c43b38  8523.32     0.008014   \n",
              "...                                       ...      ...          ...   \n",
              "3459929  53927eab-8f60-49cd-801f-f5011fb8b603  6406.39     0.073297   \n",
              "3459930  c2cc4627-23c2-447e-87b4-b3ad15853317  6406.39     1.693517   \n",
              "3459931  023cf615-dde7-459d-9996-7d20100007b1  6406.39     0.233186   \n",
              "3459932  77e11a58-a6c2-4c4f-b37b-0d85122d78ab  6406.40     0.012000   \n",
              "3459933  793df708-6199-4402-b308-fca5d2cf92eb  6406.40     1.000000   \n",
              "\n",
              "        taker_side id_coinapi  id_exch_guid  id_exch_int_inc order_id_maker  \\\n",
              "0              BUY        NaN           NaN              NaN            NaN   \n",
              "1              BUY        NaN           NaN              NaN            NaN   \n",
              "2              BUY        NaN           NaN              NaN            NaN   \n",
              "3             SELL        NaN           NaN              NaN            NaN   \n",
              "4             SELL        NaN           NaN              NaN            NaN   \n",
              "...            ...        ...           ...              ...            ...   \n",
              "3459929       SELL        NaN           NaN              NaN            NaN   \n",
              "3459930       SELL        NaN           NaN              NaN            NaN   \n",
              "3459931       SELL        NaN           NaN              NaN            NaN   \n",
              "3459932        BUY        NaN           NaN              NaN            NaN   \n",
              "3459933        BUY        NaN           NaN              NaN            NaN   \n",
              "\n",
              "        order_id_taker  \n",
              "0                  NaN  \n",
              "1                  NaN  \n",
              "2                  NaN  \n",
              "3                  NaN  \n",
              "4                  NaN  \n",
              "...                ...  \n",
              "3459929            NaN  \n",
              "3459930            NaN  \n",
              "3459931            NaN  \n",
              "3459932            NaN  \n",
              "3459933            NaN  \n",
              "\n",
              "[3459934 rows x 11 columns]"
            ],
            "text/html": [
              "\n",
              "  <div id=\"df-89300f1a-7927-4839-a377-dfd58807be9c\">\n",
              "    <div class=\"colab-df-container\">\n",
              "      <div>\n",
              "<style scoped>\n",
              "    .dataframe tbody tr th:only-of-type {\n",
              "        vertical-align: middle;\n",
              "    }\n",
              "\n",
              "    .dataframe tbody tr th {\n",
              "        vertical-align: top;\n",
              "    }\n",
              "\n",
              "    .dataframe thead th {\n",
              "        text-align: right;\n",
              "    }\n",
              "</style>\n",
              "<table border=\"1\" class=\"dataframe\">\n",
              "  <thead>\n",
              "    <tr style=\"text-align: right;\">\n",
              "      <th></th>\n",
              "      <th>time_exchange</th>\n",
              "      <th>time_coinapi</th>\n",
              "      <th>guid</th>\n",
              "      <th>price</th>\n",
              "      <th>base_amount</th>\n",
              "      <th>taker_side</th>\n",
              "      <th>id_coinapi</th>\n",
              "      <th>id_exch_guid</th>\n",
              "      <th>id_exch_int_inc</th>\n",
              "      <th>order_id_maker</th>\n",
              "      <th>order_id_taker</th>\n",
              "    </tr>\n",
              "  </thead>\n",
              "  <tbody>\n",
              "    <tr>\n",
              "      <th>0</th>\n",
              "      <td>2020-03-01T00:00:00.0446140</td>\n",
              "      <td>2020-03-01T00:00:00.1414456</td>\n",
              "      <td>679ee89b-5519-43f1-923b-daded92057f3</td>\n",
              "      <td>8523.33</td>\n",
              "      <td>0.400000</td>\n",
              "      <td>BUY</td>\n",
              "      <td>NaN</td>\n",
              "      <td>NaN</td>\n",
              "      <td>NaN</td>\n",
              "      <td>NaN</td>\n",
              "      <td>NaN</td>\n",
              "    </tr>\n",
              "    <tr>\n",
              "      <th>1</th>\n",
              "      <td>2020-03-01T00:00:00.0446140</td>\n",
              "      <td>2020-03-01T00:00:00.1423443</td>\n",
              "      <td>d8e7d6bd-7393-4ec9-8e26-7908029c9d21</td>\n",
              "      <td>8523.33</td>\n",
              "      <td>0.060150</td>\n",
              "      <td>BUY</td>\n",
              "      <td>NaN</td>\n",
              "      <td>NaN</td>\n",
              "      <td>NaN</td>\n",
              "      <td>NaN</td>\n",
              "      <td>NaN</td>\n",
              "    </tr>\n",
              "    <tr>\n",
              "      <th>2</th>\n",
              "      <td>2020-03-01T00:00:00.3049610</td>\n",
              "      <td>2020-03-01T00:00:00.3886382</td>\n",
              "      <td>d0226b21-0475-44c2-9eaa-549c58af18b7</td>\n",
              "      <td>8523.33</td>\n",
              "      <td>0.001810</td>\n",
              "      <td>BUY</td>\n",
              "      <td>NaN</td>\n",
              "      <td>NaN</td>\n",
              "      <td>NaN</td>\n",
              "      <td>NaN</td>\n",
              "      <td>NaN</td>\n",
              "    </tr>\n",
              "    <tr>\n",
              "      <th>3</th>\n",
              "      <td>2020-03-01T00:00:00.6032220</td>\n",
              "      <td>2020-03-01T00:00:00.6882787</td>\n",
              "      <td>1ca08d8d-a93f-4f99-9797-68b2dc1f5c23</td>\n",
              "      <td>8523.32</td>\n",
              "      <td>0.017000</td>\n",
              "      <td>SELL</td>\n",
              "      <td>NaN</td>\n",
              "      <td>NaN</td>\n",
              "      <td>NaN</td>\n",
              "      <td>NaN</td>\n",
              "      <td>NaN</td>\n",
              "    </tr>\n",
              "    <tr>\n",
              "      <th>4</th>\n",
              "      <td>2020-03-01T00:00:00.6032220</td>\n",
              "      <td>2020-03-01T00:00:00.6889379</td>\n",
              "      <td>0e44b485-17e1-48d3-b0ae-2a46c3c43b38</td>\n",
              "      <td>8523.32</td>\n",
              "      <td>0.008014</td>\n",
              "      <td>SELL</td>\n",
              "      <td>NaN</td>\n",
              "      <td>NaN</td>\n",
              "      <td>NaN</td>\n",
              "      <td>NaN</td>\n",
              "      <td>NaN</td>\n",
              "    </tr>\n",
              "    <tr>\n",
              "      <th>...</th>\n",
              "      <td>...</td>\n",
              "      <td>...</td>\n",
              "      <td>...</td>\n",
              "      <td>...</td>\n",
              "      <td>...</td>\n",
              "      <td>...</td>\n",
              "      <td>...</td>\n",
              "      <td>...</td>\n",
              "      <td>...</td>\n",
              "      <td>...</td>\n",
              "      <td>...</td>\n",
              "    </tr>\n",
              "    <tr>\n",
              "      <th>3459929</th>\n",
              "      <td>2020-03-30T23:59:59.0496940</td>\n",
              "      <td>2020-03-30T23:59:59.0882491</td>\n",
              "      <td>53927eab-8f60-49cd-801f-f5011fb8b603</td>\n",
              "      <td>6406.39</td>\n",
              "      <td>0.073297</td>\n",
              "      <td>SELL</td>\n",
              "      <td>NaN</td>\n",
              "      <td>NaN</td>\n",
              "      <td>NaN</td>\n",
              "      <td>NaN</td>\n",
              "      <td>NaN</td>\n",
              "    </tr>\n",
              "    <tr>\n",
              "      <th>3459930</th>\n",
              "      <td>2020-03-30T23:59:59.0617430</td>\n",
              "      <td>2020-03-30T23:59:59.1029168</td>\n",
              "      <td>c2cc4627-23c2-447e-87b4-b3ad15853317</td>\n",
              "      <td>6406.39</td>\n",
              "      <td>1.693517</td>\n",
              "      <td>SELL</td>\n",
              "      <td>NaN</td>\n",
              "      <td>NaN</td>\n",
              "      <td>NaN</td>\n",
              "      <td>NaN</td>\n",
              "      <td>NaN</td>\n",
              "    </tr>\n",
              "    <tr>\n",
              "      <th>3459931</th>\n",
              "      <td>2020-03-30T23:59:59.0860910</td>\n",
              "      <td>2020-03-30T23:59:59.1257373</td>\n",
              "      <td>023cf615-dde7-459d-9996-7d20100007b1</td>\n",
              "      <td>6406.39</td>\n",
              "      <td>0.233186</td>\n",
              "      <td>SELL</td>\n",
              "      <td>NaN</td>\n",
              "      <td>NaN</td>\n",
              "      <td>NaN</td>\n",
              "      <td>NaN</td>\n",
              "      <td>NaN</td>\n",
              "    </tr>\n",
              "    <tr>\n",
              "      <th>3459932</th>\n",
              "      <td>2020-03-30T23:59:59.2300870</td>\n",
              "      <td>2020-03-30T23:59:59.2710364</td>\n",
              "      <td>77e11a58-a6c2-4c4f-b37b-0d85122d78ab</td>\n",
              "      <td>6406.40</td>\n",
              "      <td>0.012000</td>\n",
              "      <td>BUY</td>\n",
              "      <td>NaN</td>\n",
              "      <td>NaN</td>\n",
              "      <td>NaN</td>\n",
              "      <td>NaN</td>\n",
              "      <td>NaN</td>\n",
              "    </tr>\n",
              "    <tr>\n",
              "      <th>3459933</th>\n",
              "      <td>2020-03-30T23:59:59.5337060</td>\n",
              "      <td>2020-03-30T23:59:59.5726747</td>\n",
              "      <td>793df708-6199-4402-b308-fca5d2cf92eb</td>\n",
              "      <td>6406.40</td>\n",
              "      <td>1.000000</td>\n",
              "      <td>BUY</td>\n",
              "      <td>NaN</td>\n",
              "      <td>NaN</td>\n",
              "      <td>NaN</td>\n",
              "      <td>NaN</td>\n",
              "      <td>NaN</td>\n",
              "    </tr>\n",
              "  </tbody>\n",
              "</table>\n",
              "<p>3459934 rows × 11 columns</p>\n",
              "</div>\n",
              "      <button class=\"colab-df-convert\" onclick=\"convertToInteractive('df-89300f1a-7927-4839-a377-dfd58807be9c')\"\n",
              "              title=\"Convert this dataframe to an interactive table.\"\n",
              "              style=\"display:none;\">\n",
              "        \n",
              "  <svg xmlns=\"http://www.w3.org/2000/svg\" height=\"24px\"viewBox=\"0 0 24 24\"\n",
              "       width=\"24px\">\n",
              "    <path d=\"M0 0h24v24H0V0z\" fill=\"none\"/>\n",
              "    <path d=\"M18.56 5.44l.94 2.06.94-2.06 2.06-.94-2.06-.94-.94-2.06-.94 2.06-2.06.94zm-11 1L8.5 8.5l.94-2.06 2.06-.94-2.06-.94L8.5 2.5l-.94 2.06-2.06.94zm10 10l.94 2.06.94-2.06 2.06-.94-2.06-.94-.94-2.06-.94 2.06-2.06.94z\"/><path d=\"M17.41 7.96l-1.37-1.37c-.4-.4-.92-.59-1.43-.59-.52 0-1.04.2-1.43.59L10.3 9.45l-7.72 7.72c-.78.78-.78 2.05 0 2.83L4 21.41c.39.39.9.59 1.41.59.51 0 1.02-.2 1.41-.59l7.78-7.78 2.81-2.81c.8-.78.8-2.07 0-2.86zM5.41 20L4 18.59l7.72-7.72 1.47 1.35L5.41 20z\"/>\n",
              "  </svg>\n",
              "      </button>\n",
              "      \n",
              "  <style>\n",
              "    .colab-df-container {\n",
              "      display:flex;\n",
              "      flex-wrap:wrap;\n",
              "      gap: 12px;\n",
              "    }\n",
              "\n",
              "    .colab-df-convert {\n",
              "      background-color: #E8F0FE;\n",
              "      border: none;\n",
              "      border-radius: 50%;\n",
              "      cursor: pointer;\n",
              "      display: none;\n",
              "      fill: #1967D2;\n",
              "      height: 32px;\n",
              "      padding: 0 0 0 0;\n",
              "      width: 32px;\n",
              "    }\n",
              "\n",
              "    .colab-df-convert:hover {\n",
              "      background-color: #E2EBFA;\n",
              "      box-shadow: 0px 1px 2px rgba(60, 64, 67, 0.3), 0px 1px 3px 1px rgba(60, 64, 67, 0.15);\n",
              "      fill: #174EA6;\n",
              "    }\n",
              "\n",
              "    [theme=dark] .colab-df-convert {\n",
              "      background-color: #3B4455;\n",
              "      fill: #D2E3FC;\n",
              "    }\n",
              "\n",
              "    [theme=dark] .colab-df-convert:hover {\n",
              "      background-color: #434B5C;\n",
              "      box-shadow: 0px 1px 3px 1px rgba(0, 0, 0, 0.15);\n",
              "      filter: drop-shadow(0px 1px 2px rgba(0, 0, 0, 0.3));\n",
              "      fill: #FFFFFF;\n",
              "    }\n",
              "  </style>\n",
              "\n",
              "      <script>\n",
              "        const buttonEl =\n",
              "          document.querySelector('#df-89300f1a-7927-4839-a377-dfd58807be9c button.colab-df-convert');\n",
              "        buttonEl.style.display =\n",
              "          google.colab.kernel.accessAllowed ? 'block' : 'none';\n",
              "\n",
              "        async function convertToInteractive(key) {\n",
              "          const element = document.querySelector('#df-89300f1a-7927-4839-a377-dfd58807be9c');\n",
              "          const dataTable =\n",
              "            await google.colab.kernel.invokeFunction('convertToInteractive',\n",
              "                                                     [key], {});\n",
              "          if (!dataTable) return;\n",
              "\n",
              "          const docLinkHtml = 'Like what you see? Visit the ' +\n",
              "            '<a target=\"_blank\" href=https://colab.research.google.com/notebooks/data_table.ipynb>data table notebook</a>'\n",
              "            + ' to learn more about interactive tables.';\n",
              "          element.innerHTML = '';\n",
              "          dataTable['output_type'] = 'display_data';\n",
              "          await google.colab.output.renderOutput(dataTable, element);\n",
              "          const docLink = document.createElement('div');\n",
              "          docLink.innerHTML = docLinkHtml;\n",
              "          element.appendChild(docLink);\n",
              "        }\n",
              "      </script>\n",
              "    </div>\n",
              "  </div>\n",
              "  "
            ]
          },
          "metadata": {},
          "execution_count": 45
        }
      ]
    },
    {
      "cell_type": "code",
      "execution_count": 46,
      "metadata": {
        "id": "zFET0RvoXY2V",
        "colab": {
          "base_uri": "https://localhost:8080/",
          "height": 279
        },
        "outputId": "4518c7b1-5129-4081-d775-397b08000e88"
      },
      "outputs": [
        {
          "output_type": "display_data",
          "data": {
            "text/plain": [
              "<Figure size 432x288 with 1 Axes>"
            ],
            "image/png": "[encoded data removed]"
          },
          "metadata": {
            "needs_background": "light"
          }
        }
      ],
      "source": [
        "# Assign trading side\n",
        "df['taker_side'] = df['taker_side'].replace({'BUY': 1, 'SELL': -1})\n",
        "\n",
        "# Calculate trading signed trading volume (buy sell)\n",
        "df['volume'] = df['base_amount'] * df['price']\n",
        "df['signedvolume'] = df['base_amount'] * df['price'] * df['taker_side']\n",
        "\n",
        "# Calculate return\n",
        "df['pct_change'] = df['price'].pct_change()\n",
        "df['return'] = np.where(df['taker_side'] == 1, df['pct_change'], 0)\n",
        "df['return'] = np.where(df['taker_side'] == -1, -df['pct_change'], df['return'])\n",
        "df['return'] = df['return'].dropna().cumsum()\n",
        "\n",
        "# plot the return\n",
        "df['return'].plot()\n",
        "plt.xlabel('Time')\n",
        "plt.ylabel('Return')\n",
        "plt.show()\n"
      ]
    },
    {
      "cell_type": "markdown",
      "metadata": {
        "id": "chRTHP6tXY2V"
      },
      "source": [
        "#### Calculate price impact \n",
        "Note that price impact means price movement due to \\$1 of trade of 1 share of trade\n",
        "Question, why is it better to define price impact using $\\Delta p$/\\$ of trader than $\\Delta p$/share of trade? \n"
      ]
    },
    {
      "cell_type": "markdown",
      "source": [
        "Defining price impact using Δ𝑝/$ of trader is better than Δ𝑝/share of trade because it allows us to compare price impacts across different securities and different market conditions. The price of one share of a security can vary widely across different markets and even within the same market, making it difficult to compare the price impact of a trade across different securities or markets. On the other hand, by using the dollar value of the trade, we can compare the price impact of trades across different securities and markets, regardless of their underlying share price."
      ],
      "metadata": {
        "id": "u0uG7NnIhD7h"
      }
    },
    {
      "cell_type": "code",
      "source": [
        "# Aggregate trades into chunks of 10,000 USD worth of trades\n",
        "df['cum_base_amount'] = df['base_amount'].cumsum()\n",
        "df['trade_chunk'] = (df['cum_base_amount'] / 10000).astype(int)\n",
        "\n",
        "# Calculate price movement per chunk of trades\n",
        "df['delta_price'] = df['price'].diff()\n",
        "df['price_impact'] = df['delta_price'] / df['base_amount'].shift()\n",
        "\n",
        "# Aggregate by trade chunk and calculate average price impact\n",
        "price_impact_by_chunk = df.groupby('trade_chunk')['price_impact'].mean()\n",
        "price_impact_by_chunk\n"
      ],
      "metadata": {
        "colab": {
          "base_uri": "https://localhost:8080/"
        },
        "id": "8l56PnKohXol",
        "outputId": "99baac57-306f-4811-b3a0-26b6d6a4569b"
      },
      "execution_count": 47,
      "outputs": [
        {
          "output_type": "execute_result",
          "data": {
            "text/plain": [
              "trade_chunk\n",
              "0     11506.633132\n",
              "1     -8012.385658\n",
              "2     13101.744753\n",
              "3     -4387.298646\n",
              "4     -2635.434331\n",
              "          ...     \n",
              "94    -5334.244416\n",
              "95    12519.084246\n",
              "96     1732.716618\n",
              "97    -1373.383015\n",
              "98   -52952.542539\n",
              "Name: price_impact, Length: 99, dtype: float64"
            ]
          },
          "metadata": {},
          "execution_count": 47
        }
      ]
    },
    {
      "cell_type": "code",
      "source": [
        "# Calculate price difference\n",
        "df['deltap'] = df['price'].diff()\n",
        "\n",
        "# Calculate price impact per $ of trader\n",
        "df['price_impact'] = df['deltap'] / df['base_amount']\n",
        "df"
      ],
      "metadata": {
        "colab": {
          "base_uri": "https://localhost:8080/",
          "height": 993
        },
        "id": "tUCTh04Rhw2I",
        "outputId": "d6aad094-b036-4658-c545-afb03883132d"
      },
      "execution_count": 48,
      "outputs": [
        {
          "output_type": "execute_result",
          "data": {
            "text/plain": [
              "                       time_exchange                 time_coinapi  \\\n",
              "0        2020-03-01T00:00:00.0446140  2020-03-01T00:00:00.1414456   \n",
              "1        2020-03-01T00:00:00.0446140  2020-03-01T00:00:00.1423443   \n",
              "2        2020-03-01T00:00:00.3049610  2020-03-01T00:00:00.3886382   \n",
              "3        2020-03-01T00:00:00.6032220  2020-03-01T00:00:00.6882787   \n",
              "4        2020-03-01T00:00:00.6032220  2020-03-01T00:00:00.6889379   \n",
              "...                              ...                          ...   \n",
              "3459929  2020-03-30T23:59:59.0496940  2020-03-30T23:59:59.0882491   \n",
              "3459930  2020-03-30T23:59:59.0617430  2020-03-30T23:59:59.1029168   \n",
              "3459931  2020-03-30T23:59:59.0860910  2020-03-30T23:59:59.1257373   \n",
              "3459932  2020-03-30T23:59:59.2300870  2020-03-30T23:59:59.2710364   \n",
              "3459933  2020-03-30T23:59:59.5337060  2020-03-30T23:59:59.5726747   \n",
              "\n",
              "                                         guid    price  base_amount  \\\n",
              "0        679ee89b-5519-43f1-923b-daded92057f3  8523.33     0.400000   \n",
              "1        d8e7d6bd-7393-4ec9-8e26-7908029c9d21  8523.33     0.060150   \n",
              "2        d0226b21-0475-44c2-9eaa-549c58af18b7  8523.33     0.001810   \n",
              "3        1ca08d8d-a93f-4f99-9797-68b2dc1f5c23  8523.32     0.017000   \n",
              "4        0e44b485-17e1-48d3-b0ae-2a46c3c43b38  8523.32     0.008014   \n",
              "...                                       ...      ...          ...   \n",
              "3459929  53927eab-8f60-49cd-801f-f5011fb8b603  6406.39     0.073297   \n",
              "3459930  c2cc4627-23c2-447e-87b4-b3ad15853317  6406.39     1.693517   \n",
              "3459931  023cf615-dde7-459d-9996-7d20100007b1  6406.39     0.233186   \n",
              "3459932  77e11a58-a6c2-4c4f-b37b-0d85122d78ab  6406.40     0.012000   \n",
              "3459933  793df708-6199-4402-b308-fca5d2cf92eb  6406.40     1.000000   \n",
              "\n",
              "         taker_side id_coinapi  id_exch_guid  id_exch_int_inc order_id_maker  \\\n",
              "0                 1        NaN           NaN              NaN            NaN   \n",
              "1                 1        NaN           NaN              NaN            NaN   \n",
              "2                 1        NaN           NaN              NaN            NaN   \n",
              "3                -1        NaN           NaN              NaN            NaN   \n",
              "4                -1        NaN           NaN              NaN            NaN   \n",
              "...             ...        ...           ...              ...            ...   \n",
              "3459929          -1        NaN           NaN              NaN            NaN   \n",
              "3459930          -1        NaN           NaN              NaN            NaN   \n",
              "3459931          -1        NaN           NaN              NaN            NaN   \n",
              "3459932           1        NaN           NaN              NaN            NaN   \n",
              "3459933           1        NaN           NaN              NaN            NaN   \n",
              "\n",
              "        order_id_taker        volume  signedvolume  pct_change      return  \\\n",
              "0                  NaN   3409.332000   3409.332000         NaN         NaN   \n",
              "1                  NaN    512.678044    512.678044    0.000000    0.000000   \n",
              "2                  NaN     15.429699     15.429699    0.000000    0.000000   \n",
              "3                  NaN    144.896440   -144.896440   -0.000001    0.000001   \n",
              "4                  NaN     68.304097    -68.304097    0.000000    0.000001   \n",
              "...                ...           ...           ...         ...         ...   \n",
              "3459929            NaN    469.569232   -469.569232   -0.000002  585.597081   \n",
              "3459930            NaN  10849.330758 -10849.330758    0.000000  585.597081   \n",
              "3459931            NaN   1493.880010  -1493.880010    0.000000  585.597081   \n",
              "3459932            NaN     76.876800     76.876800    0.000002  585.597083   \n",
              "3459933            NaN   6406.400000   6406.400000    0.000000  585.597083   \n",
              "\n",
              "         cum_base_amount  trade_chunk  delta_price  price_impact  deltap  \n",
              "0               0.400000            0          NaN           NaN     NaN  \n",
              "1               0.460150            0         0.00      0.000000    0.00  \n",
              "2               0.461960            0         0.00      0.000000    0.00  \n",
              "3               0.478960            0        -0.01     -0.588235   -0.01  \n",
              "4               0.486974            0         0.00      0.000000    0.00  \n",
              "...                  ...          ...          ...           ...     ...  \n",
              "3459929    982766.427128           98        -0.01     -0.136431   -0.01  \n",
              "3459930    982768.120645           98         0.00      0.000000    0.00  \n",
              "3459931    982768.353831           98         0.00      0.000000    0.00  \n",
              "3459932    982768.365831           98         0.01      0.833333    0.01  \n",
              "3459933    982769.365831           98         0.00      0.000000    0.00  \n",
              "\n",
              "[3459934 rows x 20 columns]"
            ],
            "text/html": [
              "\n",
              "  <div id=\"df-3908b8cc-65e8-42e6-a341-32a952455c94\">\n",
              "    <div class=\"colab-df-container\">\n",
              "      <div>\n",
              "<style scoped>\n",
              "    .dataframe tbody tr th:only-of-type {\n",
              "        vertical-align: middle;\n",
              "    }\n",
              "\n",
              "    .dataframe tbody tr th {\n",
              "        vertical-align: top;\n",
              "    }\n",
              "\n",
              "    .dataframe thead th {\n",
              "        text-align: right;\n",
              "    }\n",
              "</style>\n",
              "<table border=\"1\" class=\"dataframe\">\n",
              "  <thead>\n",
              "    <tr style=\"text-align: right;\">\n",
              "      <th></th>\n",
              "      <th>time_exchange</th>\n",
              "      <th>time_coinapi</th>\n",
              "      <th>guid</th>\n",
              "      <th>price</th>\n",
              "      <th>base_amount</th>\n",
              "      <th>taker_side</th>\n",
              "      <th>id_coinapi</th>\n",
              "      <th>id_exch_guid</th>\n",
              "      <th>id_exch_int_inc</th>\n",
              "      <th>order_id_maker</th>\n",
              "      <th>order_id_taker</th>\n",
              "      <th>volume</th>\n",
              "      <th>signedvolume</th>\n",
              "      <th>pct_change</th>\n",
              "      <th>return</th>\n",
              "      <th>cum_base_amount</th>\n",
              "      <th>trade_chunk</th>\n",
              "      <th>delta_price</th>\n",
              "      <th>price_impact</th>\n",
              "      <th>deltap</th>\n",
              "    </tr>\n",
              "  </thead>\n",
              "  <tbody>\n",
              "    <tr>\n",
              "      <th>0</th>\n",
              "      <td>2020-03-01T00:00:00.0446140</td>\n",
              "      <td>2020-03-01T00:00:00.1414456</td>\n",
              "      <td>679ee89b-5519-43f1-923b-daded92057f3</td>\n",
              "      <td>8523.33</td>\n",
              "      <td>0.400000</td>\n",
              "      <td>1</td>\n",
              "      <td>NaN</td>\n",
              "      <td>NaN</td>\n",
              "      <td>NaN</td>\n",
              "      <td>NaN</td>\n",
              "      <td>NaN</td>\n",
              "      <td>3409.332000</td>\n",
              "      <td>3409.332000</td>\n",
              "      <td>NaN</td>\n",
              "      <td>NaN</td>\n",
              "      <td>0.400000</td>\n",
              "      <td>0</td>\n",
              "      <td>NaN</td>\n",
              "      <td>NaN</td>\n",
              "      <td>NaN</td>\n",
              "    </tr>\n",
              "    <tr>\n",
              "      <th>1</th>\n",
              "      <td>2020-03-01T00:00:00.0446140</td>\n",
              "      <td>2020-03-01T00:00:00.1423443</td>\n",
              "      <td>d8e7d6bd-7393-4ec9-8e26-7908029c9d21</td>\n",
              "      <td>8523.33</td>\n",
              "      <td>0.060150</td>\n",
              "      <td>1</td>\n",
              "      <td>NaN</td>\n",
              "      <td>NaN</td>\n",
              "      <td>NaN</td>\n",
              "      <td>NaN</td>\n",
              "      <td>NaN</td>\n",
              "      <td>512.678044</td>\n",
              "      <td>512.678044</td>\n",
              "      <td>0.000000</td>\n",
              "      <td>0.000000</td>\n",
              "      <td>0.460150</td>\n",
              "      <td>0</td>\n",
              "      <td>0.00</td>\n",
              "      <td>0.000000</td>\n",
              "      <td>0.00</td>\n",
              "    </tr>\n",
              "    <tr>\n",
              "      <th>2</th>\n",
              "      <td>2020-03-01T00:00:00.3049610</td>\n",
              "      <td>2020-03-01T00:00:00.3886382</td>\n",
              "      <td>d0226b21-0475-44c2-9eaa-549c58af18b7</td>\n",
              "      <td>8523.33</td>\n",
              "      <td>0.001810</td>\n",
              "      <td>1</td>\n",
              "      <td>NaN</td>\n",
              "      <td>NaN</td>\n",
              "      <td>NaN</td>\n",
              "      <td>NaN</td>\n",
              "      <td>NaN</td>\n",
              "      <td>15.429699</td>\n",
              "      <td>15.429699</td>\n",
              "      <td>0.000000</td>\n",
              "      <td>0.000000</td>\n",
              "      <td>0.461960</td>\n",
              "      <td>0</td>\n",
              "      <td>0.00</td>\n",
              "      <td>0.000000</td>\n",
              "      <td>0.00</td>\n",
              "    </tr>\n",
              "    <tr>\n",
              "      <th>3</th>\n",
              "      <td>2020-03-01T00:00:00.6032220</td>\n",
              "      <td>2020-03-01T00:00:00.6882787</td>\n",
              "      <td>1ca08d8d-a93f-4f99-9797-68b2dc1f5c23</td>\n",
              "      <td>8523.32</td>\n",
              "      <td>0.017000</td>\n",
              "      <td>-1</td>\n",
              "      <td>NaN</td>\n",
              "      <td>NaN</td>\n",
              "      <td>NaN</td>\n",
              "      <td>NaN</td>\n",
              "      <td>NaN</td>\n",
              "      <td>144.896440</td>\n",
              "      <td>-144.896440</td>\n",
              "      <td>-0.000001</td>\n",
              "      <td>0.000001</td>\n",
              "      <td>0.478960</td>\n",
              "      <td>0</td>\n",
              "      <td>-0.01</td>\n",
              "      <td>-0.588235</td>\n",
              "      <td>-0.01</td>\n",
              "    </tr>\n",
              "    <tr>\n",
              "      <th>4</th>\n",
              "      <td>2020-03-01T00:00:00.6032220</td>\n",
              "      <td>2020-03-01T00:00:00.6889379</td>\n",
              "      <td>0e44b485-17e1-48d3-b0ae-2a46c3c43b38</td>\n",
              "      <td>8523.32</td>\n",
              "      <td>0.008014</td>\n",
              "      <td>-1</td>\n",
              "      <td>NaN</td>\n",
              "      <td>NaN</td>\n",
              "      <td>NaN</td>\n",
              "      <td>NaN</td>\n",
              "      <td>NaN</td>\n",
              "      <td>68.304097</td>\n",
              "      <td>-68.304097</td>\n",
              "      <td>0.000000</td>\n",
              "      <td>0.000001</td>\n",
              "      <td>0.486974</td>\n",
              "      <td>0</td>\n",
              "      <td>0.00</td>\n",
              "      <td>0.000000</td>\n",
              "      <td>0.00</td>\n",
              "    </tr>\n",
              "    <tr>\n",
              "      <th>...</th>\n",
              "      <td>...</td>\n",
              "      <td>...</td>\n",
              "      <td>...</td>\n",
              "      <td>...</td>\n",
              "      <td>...</td>\n",
              "      <td>...</td>\n",
              "      <td>...</td>\n",
              "      <td>...</td>\n",
              "      <td>...</td>\n",
              "      <td>...</td>\n",
              "      <td>...</td>\n",
              "      <td>...</td>\n",
              "      <td>...</td>\n",
              "      <td>...</td>\n",
              "      <td>...</td>\n",
              "      <td>...</td>\n",
              "      <td>...</td>\n",
              "      <td>...</td>\n",
              "      <td>...</td>\n",
              "      <td>...</td>\n",
              "    </tr>\n",
              "    <tr>\n",
              "      <th>3459929</th>\n",
              "      <td>2020-03-30T23:59:59.0496940</td>\n",
              "      <td>2020-03-30T23:59:59.0882491</td>\n",
              "      <td>53927eab-8f60-49cd-801f-f5011fb8b603</td>\n",
              "      <td>6406.39</td>\n",
              "      <td>0.073297</td>\n",
              "      <td>-1</td>\n",
              "      <td>NaN</td>\n",
              "      <td>NaN</td>\n",
              "      <td>NaN</td>\n",
              "      <td>NaN</td>\n",
              "      <td>NaN</td>\n",
              "      <td>469.569232</td>\n",
              "      <td>-469.569232</td>\n",
              "      <td>-0.000002</td>\n",
              "      <td>585.597081</td>\n",
              "      <td>982766.427128</td>\n",
              "      <td>98</td>\n",
              "      <td>-0.01</td>\n",
              "      <td>-0.136431</td>\n",
              "      <td>-0.01</td>\n",
              "    </tr>\n",
              "    <tr>\n",
              "      <th>3459930</th>\n",
              "      <td>2020-03-30T23:59:59.0617430</td>\n",
              "      <td>2020-03-30T23:59:59.1029168</td>\n",
              "      <td>c2cc4627-23c2-447e-87b4-b3ad15853317</td>\n",
              "      <td>6406.39</td>\n",
              "      <td>1.693517</td>\n",
              "      <td>-1</td>\n",
              "      <td>NaN</td>\n",
              "      <td>NaN</td>\n",
              "      <td>NaN</td>\n",
              "      <td>NaN</td>\n",
              "      <td>NaN</td>\n",
              "      <td>10849.330758</td>\n",
              "      <td>-10849.330758</td>\n",
              "      <td>0.000000</td>\n",
              "      <td>585.597081</td>\n",
              "      <td>982768.120645</td>\n",
              "      <td>98</td>\n",
              "      <td>0.00</td>\n",
              "      <td>0.000000</td>\n",
              "      <td>0.00</td>\n",
              "    </tr>\n",
              "    <tr>\n",
              "      <th>3459931</th>\n",
              "      <td>2020-03-30T23:59:59.0860910</td>\n",
              "      <td>2020-03-30T23:59:59.1257373</td>\n",
              "      <td>023cf615-dde7-459d-9996-7d20100007b1</td>\n",
              "      <td>6406.39</td>\n",
              "      <td>0.233186</td>\n",
              "      <td>-1</td>\n",
              "      <td>NaN</td>\n",
              "      <td>NaN</td>\n",
              "      <td>NaN</td>\n",
              "      <td>NaN</td>\n",
              "      <td>NaN</td>\n",
              "      <td>1493.880010</td>\n",
              "      <td>-1493.880010</td>\n",
              "      <td>0.000000</td>\n",
              "      <td>585.597081</td>\n",
              "      <td>982768.353831</td>\n",
              "      <td>98</td>\n",
              "      <td>0.00</td>\n",
              "      <td>0.000000</td>\n",
              "      <td>0.00</td>\n",
              "    </tr>\n",
              "    <tr>\n",
              "      <th>3459932</th>\n",
              "      <td>2020-03-30T23:59:59.2300870</td>\n",
              "      <td>2020-03-30T23:59:59.2710364</td>\n",
              "      <td>77e11a58-a6c2-4c4f-b37b-0d85122d78ab</td>\n",
              "      <td>6406.40</td>\n",
              "      <td>0.012000</td>\n",
              "      <td>1</td>\n",
              "      <td>NaN</td>\n",
              "      <td>NaN</td>\n",
              "      <td>NaN</td>\n",
              "      <td>NaN</td>\n",
              "      <td>NaN</td>\n",
              "      <td>76.876800</td>\n",
              "      <td>76.876800</td>\n",
              "      <td>0.000002</td>\n",
              "      <td>585.597083</td>\n",
              "      <td>982768.365831</td>\n",
              "      <td>98</td>\n",
              "      <td>0.01</td>\n",
              "      <td>0.833333</td>\n",
              "      <td>0.01</td>\n",
              "    </tr>\n",
              "    <tr>\n",
              "      <th>3459933</th>\n",
              "      <td>2020-03-30T23:59:59.5337060</td>\n",
              "      <td>2020-03-30T23:59:59.5726747</td>\n",
              "      <td>793df708-6199-4402-b308-fca5d2cf92eb</td>\n",
              "      <td>6406.40</td>\n",
              "      <td>1.000000</td>\n",
              "      <td>1</td>\n",
              "      <td>NaN</td>\n",
              "      <td>NaN</td>\n",
              "      <td>NaN</td>\n",
              "      <td>NaN</td>\n",
              "      <td>NaN</td>\n",
              "      <td>6406.400000</td>\n",
              "      <td>6406.400000</td>\n",
              "      <td>0.000000</td>\n",
              "      <td>585.597083</td>\n",
              "      <td>982769.365831</td>\n",
              "      <td>98</td>\n",
              "      <td>0.00</td>\n",
              "      <td>0.000000</td>\n",
              "      <td>0.00</td>\n",
              "    </tr>\n",
              "  </tbody>\n",
              "</table>\n",
              "<p>3459934 rows × 20 columns</p>\n",
              "</div>\n",
              "      <button class=\"colab-df-convert\" onclick=\"convertToInteractive('df-3908b8cc-65e8-42e6-a341-32a952455c94')\"\n",
              "              title=\"Convert this dataframe to an interactive table.\"\n",
              "              style=\"display:none;\">\n",
              "        \n",
              "  <svg xmlns=\"http://www.w3.org/2000/svg\" height=\"24px\"viewBox=\"0 0 24 24\"\n",
              "       width=\"24px\">\n",
              "    <path d=\"M0 0h24v24H0V0z\" fill=\"none\"/>\n",
              "    <path d=\"M18.56 5.44l.94 2.06.94-2.06 2.06-.94-2.06-.94-.94-2.06-.94 2.06-2.06.94zm-11 1L8.5 8.5l.94-2.06 2.06-.94-2.06-.94L8.5 2.5l-.94 2.06-2.06.94zm10 10l.94 2.06.94-2.06 2.06-.94-2.06-.94-.94-2.06-.94 2.06-2.06.94z\"/><path d=\"M17.41 7.96l-1.37-1.37c-.4-.4-.92-.59-1.43-.59-.52 0-1.04.2-1.43.59L10.3 9.45l-7.72 7.72c-.78.78-.78 2.05 0 2.83L4 21.41c.39.39.9.59 1.41.59.51 0 1.02-.2 1.41-.59l7.78-7.78 2.81-2.81c.8-.78.8-2.07 0-2.86zM5.41 20L4 18.59l7.72-7.72 1.47 1.35L5.41 20z\"/>\n",
              "  </svg>\n",
              "      </button>\n",
              "      \n",
              "  <style>\n",
              "    .colab-df-container {\n",
              "      display:flex;\n",
              "      flex-wrap:wrap;\n",
              "      gap: 12px;\n",
              "    }\n",
              "\n",
              "    .colab-df-convert {\n",
              "      background-color: #E8F0FE;\n",
              "      border: none;\n",
              "      border-radius: 50%;\n",
              "      cursor: pointer;\n",
              "      display: none;\n",
              "      fill: #1967D2;\n",
              "      height: 32px;\n",
              "      padding: 0 0 0 0;\n",
              "      width: 32px;\n",
              "    }\n",
              "\n",
              "    .colab-df-convert:hover {\n",
              "      background-color: #E2EBFA;\n",
              "      box-shadow: 0px 1px 2px rgba(60, 64, 67, 0.3), 0px 1px 3px 1px rgba(60, 64, 67, 0.15);\n",
              "      fill: #174EA6;\n",
              "    }\n",
              "\n",
              "    [theme=dark] .colab-df-convert {\n",
              "      background-color: #3B4455;\n",
              "      fill: #D2E3FC;\n",
              "    }\n",
              "\n",
              "    [theme=dark] .colab-df-convert:hover {\n",
              "      background-color: #434B5C;\n",
              "      box-shadow: 0px 1px 3px 1px rgba(0, 0, 0, 0.15);\n",
              "      filter: drop-shadow(0px 1px 2px rgba(0, 0, 0, 0.3));\n",
              "      fill: #FFFFFF;\n",
              "    }\n",
              "  </style>\n",
              "\n",
              "      <script>\n",
              "        const buttonEl =\n",
              "          document.querySelector('#df-3908b8cc-65e8-42e6-a341-32a952455c94 button.colab-df-convert');\n",
              "        buttonEl.style.display =\n",
              "          google.colab.kernel.accessAllowed ? 'block' : 'none';\n",
              "\n",
              "        async function convertToInteractive(key) {\n",
              "          const element = document.querySelector('#df-3908b8cc-65e8-42e6-a341-32a952455c94');\n",
              "          const dataTable =\n",
              "            await google.colab.kernel.invokeFunction('convertToInteractive',\n",
              "                                                     [key], {});\n",
              "          if (!dataTable) return;\n",
              "\n",
              "          const docLinkHtml = 'Like what you see? Visit the ' +\n",
              "            '<a target=\"_blank\" href=https://colab.research.google.com/notebooks/data_table.ipynb>data table notebook</a>'\n",
              "            + ' to learn more about interactive tables.';\n",
              "          element.innerHTML = '';\n",
              "          dataTable['output_type'] = 'display_data';\n",
              "          await google.colab.output.renderOutput(dataTable, element);\n",
              "          const docLink = document.createElement('div');\n",
              "          docLink.innerHTML = docLinkHtml;\n",
              "          element.appendChild(docLink);\n",
              "        }\n",
              "      </script>\n",
              "    </div>\n",
              "  </div>\n",
              "  "
            ]
          },
          "metadata": {},
          "execution_count": 48
        }
      ]
    },
    {
      "cell_type": "code",
      "source": [
        "df.columns"
      ],
      "metadata": {
        "colab": {
          "base_uri": "https://localhost:8080/"
        },
        "id": "sGcGw4JQi0Qt",
        "outputId": "d8c65a69-5306-48c9-e715-216a0be83d66"
      },
      "execution_count": 49,
      "outputs": [
        {
          "output_type": "execute_result",
          "data": {
            "text/plain": [
              "Index(['time_exchange', 'time_coinapi', 'guid', 'price', 'base_amount',\n",
              "       'taker_side', 'id_coinapi', 'id_exch_guid', 'id_exch_int_inc',\n",
              "       'order_id_maker', 'order_id_taker', 'volume', 'signedvolume',\n",
              "       'pct_change', 'return', 'cum_base_amount', 'trade_chunk', 'delta_price',\n",
              "       'price_impact', 'deltap'],\n",
              "      dtype='object')"
            ]
          },
          "metadata": {},
          "execution_count": 49
        }
      ]
    },
    {
      "cell_type": "code",
      "source": [
        "# Convert time_exchange to date only\n",
        "df['date'] = df['time_exchange'].str.split('T', expand=True)[0]\n",
        "\n",
        "# Calculate volume by day\n",
        "df['volume'] = df['base_amount'] * df['price']\n",
        "df_daily_vol = df.groupby('date')['volume'].sum().reset_index()\n",
        "df_daily_vol = df_daily_vol.rename(columns={'volume': 'daily_volume'})\n",
        "\n",
        "# Calculate signed volume by day\n",
        "df['signed_volume'] = df['base_amount'] * df['price'] * df['taker_side']\n",
        "df_daily_signed_vol = df.groupby('date')['signed_volume'].sum().reset_index()\n",
        "df_daily_signed_vol = df_daily_signed_vol.rename(columns={'signed_volume': 'daily_signed_volume'})\n",
        "\n",
        "# Calculate volume-weighted price by day\n",
        "df_daily_vwap = df.groupby('date').apply(lambda x: (x['volume']*x['price']).sum() / x['volume'].sum()).reset_index()\n",
        "df_daily_vwap.columns = ['date', 'daily_vwap']\n",
        "\n",
        "# Merge daily volume, signed volume, and vwap to the main dataframe\n",
        "df = df.merge(df_daily_vol, on='date')\n",
        "df = df.merge(df_daily_signed_vol, on='date')\n",
        "df = df.merge(df_daily_vwap, on='date')"
      ],
      "metadata": {
        "id": "IF6IEtchk4O5"
      },
      "execution_count": 51,
      "outputs": []
    },
    {
      "cell_type": "code",
      "source": [
        "df.columns"
      ],
      "metadata": {
        "colab": {
          "base_uri": "https://localhost:8080/"
        },
        "id": "CumNMtBrmtEj",
        "outputId": "8c83a18a-4897-4a58-d12c-dc98d330d576"
      },
      "execution_count": 54,
      "outputs": [
        {
          "output_type": "execute_result",
          "data": {
            "text/plain": [
              "Index(['time_exchange', 'time_coinapi', 'guid', 'price', 'base_amount',\n",
              "       'taker_side', 'id_coinapi', 'id_exch_guid', 'id_exch_int_inc',\n",
              "       'order_id_maker', 'order_id_taker', 'volume', 'signedvolume',\n",
              "       'pct_change', 'return', 'cum_base_amount', 'trade_chunk', 'delta_price',\n",
              "       'price_impact', 'deltap', 'signed_volume', 'date', 'daily_volume',\n",
              "       'daily_signed_volume', 'daily_vwap'],\n",
              "      dtype='object')"
            ]
          },
          "metadata": {},
          "execution_count": 54
        }
      ]
    },
    {
      "cell_type": "code",
      "source": [
        "df[['date','price','volume','deltap','signed_volume','daily_vwap','daily_signed_volume']]"
      ],
      "metadata": {
        "colab": {
          "base_uri": "https://localhost:8080/",
          "height": 419
        },
        "id": "mD2kY_4omDqV",
        "outputId": "aff2e8f3-310d-4637-baab-ba47b3a46449"
      },
      "execution_count": 55,
      "outputs": [
        {
          "output_type": "execute_result",
          "data": {
            "text/plain": [
              "               date    price        volume  deltap  signed_volume  \\\n",
              "0        2020-03-01  8523.33   3409.332000     NaN    3409.332000   \n",
              "1        2020-03-01  8523.33    512.678044    0.00     512.678044   \n",
              "2        2020-03-01  8523.33     15.429699    0.00      15.429699   \n",
              "3        2020-03-01  8523.32    144.896440   -0.01    -144.896440   \n",
              "4        2020-03-01  8523.32     68.304097    0.00     -68.304097   \n",
              "...             ...      ...           ...     ...            ...   \n",
              "3459929  2020-03-30  6406.39    469.569232   -0.01    -469.569232   \n",
              "3459930  2020-03-30  6406.39  10849.330758    0.00  -10849.330758   \n",
              "3459931  2020-03-30  6406.39   1493.880010    0.00   -1493.880010   \n",
              "3459932  2020-03-30  6406.40     76.876800    0.01      76.876800   \n",
              "3459933  2020-03-30  6406.40   6406.400000    0.00    6406.400000   \n",
              "\n",
              "          daily_vwap  daily_signed_volume  \n",
              "0        8549.979402         5.779003e+06  \n",
              "1        8549.979402         5.779003e+06  \n",
              "2        8549.979402         5.779003e+06  \n",
              "3        8549.979402         5.779003e+06  \n",
              "4        8549.979402         5.779003e+06  \n",
              "...              ...                  ...  \n",
              "3459929  6317.653135         2.436595e+07  \n",
              "3459930  6317.653135         2.436595e+07  \n",
              "3459931  6317.653135         2.436595e+07  \n",
              "3459932  6317.653135         2.436595e+07  \n",
              "3459933  6317.653135         2.436595e+07  \n",
              "\n",
              "[3459934 rows x 7 columns]"
            ],
            "text/html": [
              "\n",
              "  <div id=\"df-919e76d2-6784-43a1-95fe-7bd42fbd16d0\">\n",
              "    <div class=\"colab-df-container\">\n",
              "      <div>\n",
              "<style scoped>\n",
              "    .dataframe tbody tr th:only-of-type {\n",
              "        vertical-align: middle;\n",
              "    }\n",
              "\n",
              "    .dataframe tbody tr th {\n",
              "        vertical-align: top;\n",
              "    }\n",
              "\n",
              "    .dataframe thead th {\n",
              "        text-align: right;\n",
              "    }\n",
              "</style>\n",
              "<table border=\"1\" class=\"dataframe\">\n",
              "  <thead>\n",
              "    <tr style=\"text-align: right;\">\n",
              "      <th></th>\n",
              "      <th>date</th>\n",
              "      <th>price</th>\n",
              "      <th>volume</th>\n",
              "      <th>deltap</th>\n",
              "      <th>signed_volume</th>\n",
              "      <th>daily_vwap</th>\n",
              "      <th>daily_signed_volume</th>\n",
              "    </tr>\n",
              "  </thead>\n",
              "  <tbody>\n",
              "    <tr>\n",
              "      <th>0</th>\n",
              "      <td>2020-03-01</td>\n",
              "      <td>8523.33</td>\n",
              "      <td>3409.332000</td>\n",
              "      <td>NaN</td>\n",
              "      <td>3409.332000</td>\n",
              "      <td>8549.979402</td>\n",
              "      <td>5.779003e+06</td>\n",
              "    </tr>\n",
              "    <tr>\n",
              "      <th>1</th>\n",
              "      <td>2020-03-01</td>\n",
              "      <td>8523.33</td>\n",
              "      <td>512.678044</td>\n",
              "      <td>0.00</td>\n",
              "      <td>512.678044</td>\n",
              "      <td>8549.979402</td>\n",
              "      <td>5.779003e+06</td>\n",
              "    </tr>\n",
              "    <tr>\n",
              "      <th>2</th>\n",
              "      <td>2020-03-01</td>\n",
              "      <td>8523.33</td>\n",
              "      <td>15.429699</td>\n",
              "      <td>0.00</td>\n",
              "      <td>15.429699</td>\n",
              "      <td>8549.979402</td>\n",
              "      <td>5.779003e+06</td>\n",
              "    </tr>\n",
              "    <tr>\n",
              "      <th>3</th>\n",
              "      <td>2020-03-01</td>\n",
              "      <td>8523.32</td>\n",
              "      <td>144.896440</td>\n",
              "      <td>-0.01</td>\n",
              "      <td>-144.896440</td>\n",
              "      <td>8549.979402</td>\n",
              "      <td>5.779003e+06</td>\n",
              "    </tr>\n",
              "    <tr>\n",
              "      <th>4</th>\n",
              "      <td>2020-03-01</td>\n",
              "      <td>8523.32</td>\n",
              "      <td>68.304097</td>\n",
              "      <td>0.00</td>\n",
              "      <td>-68.304097</td>\n",
              "      <td>8549.979402</td>\n",
              "      <td>5.779003e+06</td>\n",
              "    </tr>\n",
              "    <tr>\n",
              "      <th>...</th>\n",
              "      <td>...</td>\n",
              "      <td>...</td>\n",
              "      <td>...</td>\n",
              "      <td>...</td>\n",
              "      <td>...</td>\n",
              "      <td>...</td>\n",
              "      <td>...</td>\n",
              "    </tr>\n",
              "    <tr>\n",
              "      <th>3459929</th>\n",
              "      <td>2020-03-30</td>\n",
              "      <td>6406.39</td>\n",
              "      <td>469.569232</td>\n",
              "      <td>-0.01</td>\n",
              "      <td>-469.569232</td>\n",
              "      <td>6317.653135</td>\n",
              "      <td>2.436595e+07</td>\n",
              "    </tr>\n",
              "    <tr>\n",
              "      <th>3459930</th>\n",
              "      <td>2020-03-30</td>\n",
              "      <td>6406.39</td>\n",
              "      <td>10849.330758</td>\n",
              "      <td>0.00</td>\n",
              "      <td>-10849.330758</td>\n",
              "      <td>6317.653135</td>\n",
              "      <td>2.436595e+07</td>\n",
              "    </tr>\n",
              "    <tr>\n",
              "      <th>3459931</th>\n",
              "      <td>2020-03-30</td>\n",
              "      <td>6406.39</td>\n",
              "      <td>1493.880010</td>\n",
              "      <td>0.00</td>\n",
              "      <td>-1493.880010</td>\n",
              "      <td>6317.653135</td>\n",
              "      <td>2.436595e+07</td>\n",
              "    </tr>\n",
              "    <tr>\n",
              "      <th>3459932</th>\n",
              "      <td>2020-03-30</td>\n",
              "      <td>6406.40</td>\n",
              "      <td>76.876800</td>\n",
              "      <td>0.01</td>\n",
              "      <td>76.876800</td>\n",
              "      <td>6317.653135</td>\n",
              "      <td>2.436595e+07</td>\n",
              "    </tr>\n",
              "    <tr>\n",
              "      <th>3459933</th>\n",
              "      <td>2020-03-30</td>\n",
              "      <td>6406.40</td>\n",
              "      <td>6406.400000</td>\n",
              "      <td>0.00</td>\n",
              "      <td>6406.400000</td>\n",
              "      <td>6317.653135</td>\n",
              "      <td>2.436595e+07</td>\n",
              "    </tr>\n",
              "  </tbody>\n",
              "</table>\n",
              "<p>3459934 rows × 7 columns</p>\n",
              "</div>\n",
              "      <button class=\"colab-df-convert\" onclick=\"convertToInteractive('df-919e76d2-6784-43a1-95fe-7bd42fbd16d0')\"\n",
              "              title=\"Convert this dataframe to an interactive table.\"\n",
              "              style=\"display:none;\">\n",
              "        \n",
              "  <svg xmlns=\"http://www.w3.org/2000/svg\" height=\"24px\"viewBox=\"0 0 24 24\"\n",
              "       width=\"24px\">\n",
              "    <path d=\"M0 0h24v24H0V0z\" fill=\"none\"/>\n",
              "    <path d=\"M18.56 5.44l.94 2.06.94-2.06 2.06-.94-2.06-.94-.94-2.06-.94 2.06-2.06.94zm-11 1L8.5 8.5l.94-2.06 2.06-.94-2.06-.94L8.5 2.5l-.94 2.06-2.06.94zm10 10l.94 2.06.94-2.06 2.06-.94-2.06-.94-.94-2.06-.94 2.06-2.06.94z\"/><path d=\"M17.41 7.96l-1.37-1.37c-.4-.4-.92-.59-1.43-.59-.52 0-1.04.2-1.43.59L10.3 9.45l-7.72 7.72c-.78.78-.78 2.05 0 2.83L4 21.41c.39.39.9.59 1.41.59.51 0 1.02-.2 1.41-.59l7.78-7.78 2.81-2.81c.8-.78.8-2.07 0-2.86zM5.41 20L4 18.59l7.72-7.72 1.47 1.35L5.41 20z\"/>\n",
              "  </svg>\n",
              "      </button>\n",
              "      \n",
              "  <style>\n",
              "    .colab-df-container {\n",
              "      display:flex;\n",
              "      flex-wrap:wrap;\n",
              "      gap: 12px;\n",
              "    }\n",
              "\n",
              "    .colab-df-convert {\n",
              "      background-color: #E8F0FE;\n",
              "      border: none;\n",
              "      border-radius: 50%;\n",
              "      cursor: pointer;\n",
              "      display: none;\n",
              "      fill: #1967D2;\n",
              "      height: 32px;\n",
              "      padding: 0 0 0 0;\n",
              "      width: 32px;\n",
              "    }\n",
              "\n",
              "    .colab-df-convert:hover {\n",
              "      background-color: #E2EBFA;\n",
              "      box-shadow: 0px 1px 2px rgba(60, 64, 67, 0.3), 0px 1px 3px 1px rgba(60, 64, 67, 0.15);\n",
              "      fill: #174EA6;\n",
              "    }\n",
              "\n",
              "    [theme=dark] .colab-df-convert {\n",
              "      background-color: #3B4455;\n",
              "      fill: #D2E3FC;\n",
              "    }\n",
              "\n",
              "    [theme=dark] .colab-df-convert:hover {\n",
              "      background-color: #434B5C;\n",
              "      box-shadow: 0px 1px 3px 1px rgba(0, 0, 0, 0.15);\n",
              "      filter: drop-shadow(0px 1px 2px rgba(0, 0, 0, 0.3));\n",
              "      fill: #FFFFFF;\n",
              "    }\n",
              "  </style>\n",
              "\n",
              "      <script>\n",
              "        const buttonEl =\n",
              "          document.querySelector('#df-919e76d2-6784-43a1-95fe-7bd42fbd16d0 button.colab-df-convert');\n",
              "        buttonEl.style.display =\n",
              "          google.colab.kernel.accessAllowed ? 'block' : 'none';\n",
              "\n",
              "        async function convertToInteractive(key) {\n",
              "          const element = document.querySelector('#df-919e76d2-6784-43a1-95fe-7bd42fbd16d0');\n",
              "          const dataTable =\n",
              "            await google.colab.kernel.invokeFunction('convertToInteractive',\n",
              "                                                     [key], {});\n",
              "          if (!dataTable) return;\n",
              "\n",
              "          const docLinkHtml = 'Like what you see? Visit the ' +\n",
              "            '<a target=\"_blank\" href=https://colab.research.google.com/notebooks/data_table.ipynb>data table notebook</a>'\n",
              "            + ' to learn more about interactive tables.';\n",
              "          element.innerHTML = '';\n",
              "          dataTable['output_type'] = 'display_data';\n",
              "          await google.colab.output.renderOutput(dataTable, element);\n",
              "          const docLink = document.createElement('div');\n",
              "          docLink.innerHTML = docLinkHtml;\n",
              "          element.appendChild(docLink);\n",
              "        }\n",
              "      </script>\n",
              "    </div>\n",
              "  </div>\n",
              "  "
            ]
          },
          "metadata": {},
          "execution_count": 55
        }
      ]
    },
    {
      "cell_type": "code",
      "source": [
        "# Group the data by date\n",
        "df_grouped = df.groupby('date')\n",
        "\n",
        "# Calculate daily price impact, volume, signed volume, and volume-weighted price\n",
        "daily_price_impact = df_grouped['price_impact'].mean()\n",
        "daily_volume = df_grouped['volume'].sum()\n",
        "daily_signed_volume = df_grouped['signedvolume'].sum()\n",
        "daily_vwap = df_grouped['daily_vwap'].mean()\n",
        "\n",
        "# Plot the data\n",
        "fig, ax = plt.subplots(figsize=(12,8))\n",
        "ax.plot(daily_price_impact.index, daily_price_impact, label='Price Impact')\n",
        "ax.plot(daily_vwap.index, daily_vwap, label='Volume-Weighted Avg. Price')\n",
        "ax.bar(daily_volume.index, daily_volume, width=0.5, label='Volume')\n",
        "ax.bar(daily_signed_volume.index, daily_signed_volume, width=0.5, label='Signed Volume')\n",
        "ax.set_xlabel('Date')\n",
        "ax.set_ylabel('Value')\n",
        "ax.set_title('Daily Market Metrics')\n",
        "ax.legend()\n",
        "plt.show()"
      ],
      "metadata": {
        "colab": {
          "base_uri": "https://localhost:8080/",
          "height": 513
        },
        "id": "B9Pa31X1oNAC",
        "outputId": "978ed0d9-933e-45ca-9870-31fb228680af"
      },
      "execution_count": 56,
      "outputs": [
        {
          "output_type": "display_data",
          "data": {
            "text/plain": [
              "<Figure size 864x576 with 1 Axes>"
            ],
            "image/png": "[encoded data removed]"
          },
          "metadata": {
            "needs_background": "light"
          }
        }
      ]
    },
    {
      "cell_type": "markdown",
      "metadata": {
        "id": "sYbfP48JXY2V"
      },
      "source": [
        "##### Overall price impact"
      ]
    },
    {
      "cell_type": "code",
      "source": [
        "overall_price_impact = df['price_impact'].sum() / df['base_amount'].sum()\n",
        "print(\"Overall price impact: {:.6f}\".format(overall_price_impact))\n"
      ],
      "metadata": {
        "colab": {
          "base_uri": "https://localhost:8080/"
        },
        "id": "MKOIvb9IocGe",
        "outputId": "5cf4f254-27e7-4704-d7f0-371f3f9164f6"
      },
      "execution_count": 58,
      "outputs": [
        {
          "output_type": "stream",
          "name": "stdout",
          "text": [
            "Overall price impact: -1.501207\n"
          ]
        }
      ]
    },
    {
      "cell_type": "markdown",
      "metadata": {
        "id": "W3AlkCtAXY2W"
      },
      "source": [
        "##### Price impact by hour\n",
        "This requires to first aggregate data to data/hour level "
      ]
    },
    {
      "cell_type": "code",
      "source": [
        "df['time_exchange'] = pd.to_datetime(df['time_exchange'])\n",
        "df['time_coinapi'] = pd.to_datetime(df['time_coinapi'])\n",
        "\n",
        "\n",
        "df_hourly = df.groupby([df['time_exchange'].dt.date, df['time_exchange'].dt.hour]).agg({\n",
        "    'price_impact': 'mean',\n",
        "    'signed_volume': 'sum'\n",
        "})"
      ],
      "metadata": {
        "id": "kT4v15mlpmfp"
      },
      "execution_count": 60,
      "outputs": []
    },
    {
      "cell_type": "code",
      "source": [
        "df_hourly.plot()"
      ],
      "metadata": {
        "colab": {
          "base_uri": "https://localhost:8080/",
          "height": 308
        },
        "id": "Gk0l7BXyp3le",
        "outputId": "cb9c511d-863a-4dee-c6b1-b1fcf5f8c539"
      },
      "execution_count": 61,
      "outputs": [
        {
          "output_type": "execute_result",
          "data": {
            "text/plain": [
              "<AxesSubplot:xlabel='time_exchange,time_exchange'>"
            ]
          },
          "metadata": {},
          "execution_count": 61
        },
        {
          "output_type": "display_data",
          "data": {
            "text/plain": [
              "<Figure size 432x288 with 1 Axes>"
            ],
            "image/png": "[encoded data removed]"
          },
          "metadata": {
            "needs_background": "light"
          }
        }
      ]
    },
    {
      "cell_type": "markdown",
      "metadata": {
        "id": "hBQOqiz-XY2W"
      },
      "source": [
        "##### Forecasting Power of lambda\n",
        "Try signed lambda \n"
      ]
    },
    {
      "cell_type": "code",
      "source": [
        "df_date = df.groupby('date').agg({'signed_volume': 'sum', 'price_impact': 'sum'})\n",
        "#Calculate the signed lambda by dividing the sum of signed price impact by the sum of signed volume.\n",
        "df_date['signed_lambda'] = df_date['price_impact'] / df_date['signed_volume']\n",
        "df_date['signed_lambda_pct_change'] = df_date['signed_lambda'].pct_change()\n",
        "df_date['signed_lambda_pct_change'].plot(figsize=(10, 6), title='Signed Lambda Percentage Change')\n"
      ],
      "metadata": {
        "colab": {
          "base_uri": "https://localhost:8080/",
          "height": 421
        },
        "id": "Ib0J_aAqqH1K",
        "outputId": "a5065fe1-cd23-4dc4-b570-1ec623cba2cc"
      },
      "execution_count": 66,
      "outputs": [
        {
          "output_type": "execute_result",
          "data": {
            "text/plain": [
              "<AxesSubplot:title={'center':'Signed Lambda Percentage Change'}, xlabel='date'>"
            ]
          },
          "metadata": {},
          "execution_count": 66
        },
        {
          "output_type": "display_data",
          "data": {
            "text/plain": [
              "<Figure size 720x432 with 1 Axes>"
            ],
            "image/png": "[encoded data removed]"
          },
          "metadata": {
            "needs_background": "light"
          }
        }
      ]
    },
    {
      "cell_type": "markdown",
      "source": [],
      "metadata": {
        "id": "2dMCL5rQrUCC"
      }
    },
    {
      "cell_type": "markdown",
      "metadata": {
        "id": "tP4JHxwTXY2W"
      },
      "source": [
        "#### Trading Strategy based on Signed lambda"
      ]
    },
    {
      "cell_type": "markdown",
      "source": [
        "Signed lambda can be used as a signal for a trading strategy. If we have a positive signed lambda, it indicates that there is more buying pressure in the market, and we could consider taking a long position. On the other hand, if we have a negative signed lambda, it indicates more selling pressure, and we could consider taking a short position.\n",
        "\n",
        "We could use a threshold for the signed lambda value to trigger a trade. For example, if the signed lambda is above a certain positive threshold, we could enter a long position, and if it is below a certain negative threshold, we could enter a short position."
      ],
      "metadata": {
        "id": "Z6QR0q7wq-Ce"
      }
    }
  ],
  "metadata": {
    "kernelspec": {
      "display_name": "base",
      "language": "python",
      "name": "python3"
    },
    "language_info": {
      "codemirror_mode": {
        "name": "ipython",
        "version": 3
      },
      "file_extension": ".py",
      "mimetype": "text/x-python",
      "name": "python",
      "nbconvert_exporter": "python",
      "pygments_lexer": "ipython3",
      "version": "3.9.7"
    },
    "orig_nbformat": 4,
    "vscode": {
      "interpreter": {
        "hash": "62a7af92ab6101a3a94502fdbe78225ebe37029b375878b440ea7d81328eab22"
      }
    },
    "colab": {
      "provenance": [],
      "toc_visible": true
    }
  },
  "nbformat": 4,
  "nbformat_minor": 0
}